{
 "cells": [
  {
   "cell_type": "markdown",
   "metadata": {},
   "source": [
    "#  ----------------------------------------- Сборный проект ------------------------------------------"
   ]
  },
  {
   "cell_type": "markdown",
   "metadata": {},
   "source": [
    "## Описание проекта 📃\n",
    " \n",
    "* Вы работаете в интернет-магазине «Стримчик», который продаёт по всему миру компьютерные игры. Из открытых источников доступны исторические данные о продажах игр, оценки пользователей и экспертов, жанры и платформы (например, Xbox или PlayStation). Вам нужно выявить определяющие успешность игры закономерности. Это позволит сделать ставку на потенциально популярный продукт и спланировать рекламные кампании.\n",
    "\n",
    "* Перед вами данные до 2016 года. Представим, что сейчас декабрь 2016 г., и вы планируете кампанию на 2017-й. Нужно отработать принцип работы с данными. Не важно, прогнозируете ли вы продажи на 2017 год по данным 2016-го или же 2027-й — по данным 2026 года.\n",
    "\n",
    "* В наборе данных попадается аббревиатура ESRB (Entertainment Software Rating Board) — это ассоциация, определяющая возрастной рейтинг компьютерных игр. ESRB оценивает игровой контент и присваивает ему подходящую возрастную категорию, например, «Для взрослых», «Для детей младшего возраста» или «Для подростков».\n",
    "\n",
    "------------------------------------------------------------------------------------------------------------------------------\n",
    "------------------------------------------------------------------------------------------------------------------------------\n",
    "## Данные 💾\n",
    "\n",
    "### Описание данных*\n",
    "* Name — название игры\n",
    "* Platform — платформа\n",
    "* Year_of_Release — год выпуска\n",
    "* Genre — жанр игры\n",
    "* NA_sales — продажи в Северной Америке (миллионы долларов)\n",
    "* EU_sales — продажи в Европе (миллионы долларов)\n",
    "* JP_sales — продажи в Японии (миллионы долларов)\n",
    "* Other_sales — продажи в других странах (миллионы долларов)\n",
    "* Critic_Score — оценка критиков (максимум 100)\n",
    "* User_Score — оценка пользователей (максимум 10)\n",
    "* Rating — рейтинг от организации ESRB (англ. Entertainment Software Rating Board). Эта ассоциация определяет рейтинг компьютерных игр и присваивает им подходящую возрастную категорию.\n",
    "\n",
    "##### *Данные за 2016 год могут быть неполными.\n",
    "\n",
    "-------------------------------------------------------------------------------------------------------------------------------\n",
    "-------------------------------------------------------------------------------------------------------------------------------\n",
    "\n",
    "## Цель  проекта 🎯\n",
    "* Выявить потенциально популярные продукты и определяющие успешность игры закономерности для планирования рекламных компаний.\n",
    "\n",
    "\n",
    "\n"
   ]
  },
  {
   "cell_type": "markdown",
   "metadata": {},
   "source": [
    "## План по выполнению проекта \n",
    "* Шаг 1. Открытие файла с данными и изучение общей информации\n",
    "* Шаг 2. Подготовка данных\n",
    "* Шаг 3. Провединие исследовательского анализа данных\n",
    "* Шаг 4. Составление портрета пользователя каждого региона\n",
    "* Шаг 5. Проверка гипотез\n",
    "* Шаг 6. Общий вывод"
   ]
  },
  {
   "cell_type": "markdown",
   "metadata": {},
   "source": [
    "#  Шаг 1. Открытие файла с данными и изучение общей информации. \n"
   ]
  },
  {
   "cell_type": "code",
   "execution_count": 1,
   "metadata": {},
   "outputs": [],
   "source": [
    "#Подгружаем необходимые библиотеки\n",
    "import pandas as pd\n",
    "import seaborn as sns\n",
    "import numpy as np\n",
    "import matplotlib as plt\n",
    "from scipy import stats as st\n",
    "import statsmodels.api as sm\n",
    "from pylab import rcParams"
   ]
  },
  {
   "cell_type": "code",
   "execution_count": 2,
   "metadata": {},
   "outputs": [
    {
     "ename": "FileNotFoundError",
     "evalue": "[Errno 2] File /datasets/games.csv does not exist: '/datasets/games.csv'",
     "output_type": "error",
     "traceback": [
      "\u001b[1;31m---------------------------------------------------------------------------\u001b[0m",
      "\u001b[1;31mFileNotFoundError\u001b[0m                         Traceback (most recent call last)",
      "\u001b[1;32m<ipython-input-2-d2ffdc177b72>\u001b[0m in \u001b[0;36m<module>\u001b[1;34m\u001b[0m\n\u001b[0;32m      1\u001b[0m \u001b[1;31m#Подгружаем файл с данными\u001b[0m\u001b[1;33m\u001b[0m\u001b[1;33m\u001b[0m\u001b[1;33m\u001b[0m\u001b[0m\n\u001b[1;32m----> 2\u001b[1;33m \u001b[0mdf\u001b[0m\u001b[1;33m=\u001b[0m\u001b[0mpd\u001b[0m\u001b[1;33m.\u001b[0m\u001b[0mread_csv\u001b[0m\u001b[1;33m(\u001b[0m\u001b[1;34m'/datasets/games.csv'\u001b[0m\u001b[1;33m)\u001b[0m\u001b[1;33m\u001b[0m\u001b[1;33m\u001b[0m\u001b[0m\n\u001b[0m",
      "\u001b[1;32mC:\\ProgramData\\Anaconda3\\lib\\site-packages\\pandas\\io\\parsers.py\u001b[0m in \u001b[0;36mparser_f\u001b[1;34m(filepath_or_buffer, sep, delimiter, header, names, index_col, usecols, squeeze, prefix, mangle_dupe_cols, dtype, engine, converters, true_values, false_values, skipinitialspace, skiprows, skipfooter, nrows, na_values, keep_default_na, na_filter, verbose, skip_blank_lines, parse_dates, infer_datetime_format, keep_date_col, date_parser, dayfirst, cache_dates, iterator, chunksize, compression, thousands, decimal, lineterminator, quotechar, quoting, doublequote, escapechar, comment, encoding, dialect, error_bad_lines, warn_bad_lines, delim_whitespace, low_memory, memory_map, float_precision)\u001b[0m\n\u001b[0;32m    674\u001b[0m         )\n\u001b[0;32m    675\u001b[0m \u001b[1;33m\u001b[0m\u001b[0m\n\u001b[1;32m--> 676\u001b[1;33m         \u001b[1;32mreturn\u001b[0m \u001b[0m_read\u001b[0m\u001b[1;33m(\u001b[0m\u001b[0mfilepath_or_buffer\u001b[0m\u001b[1;33m,\u001b[0m \u001b[0mkwds\u001b[0m\u001b[1;33m)\u001b[0m\u001b[1;33m\u001b[0m\u001b[1;33m\u001b[0m\u001b[0m\n\u001b[0m\u001b[0;32m    677\u001b[0m \u001b[1;33m\u001b[0m\u001b[0m\n\u001b[0;32m    678\u001b[0m     \u001b[0mparser_f\u001b[0m\u001b[1;33m.\u001b[0m\u001b[0m__name__\u001b[0m \u001b[1;33m=\u001b[0m \u001b[0mname\u001b[0m\u001b[1;33m\u001b[0m\u001b[1;33m\u001b[0m\u001b[0m\n",
      "\u001b[1;32mC:\\ProgramData\\Anaconda3\\lib\\site-packages\\pandas\\io\\parsers.py\u001b[0m in \u001b[0;36m_read\u001b[1;34m(filepath_or_buffer, kwds)\u001b[0m\n\u001b[0;32m    446\u001b[0m \u001b[1;33m\u001b[0m\u001b[0m\n\u001b[0;32m    447\u001b[0m     \u001b[1;31m# Create the parser.\u001b[0m\u001b[1;33m\u001b[0m\u001b[1;33m\u001b[0m\u001b[1;33m\u001b[0m\u001b[0m\n\u001b[1;32m--> 448\u001b[1;33m     \u001b[0mparser\u001b[0m \u001b[1;33m=\u001b[0m \u001b[0mTextFileReader\u001b[0m\u001b[1;33m(\u001b[0m\u001b[0mfp_or_buf\u001b[0m\u001b[1;33m,\u001b[0m \u001b[1;33m**\u001b[0m\u001b[0mkwds\u001b[0m\u001b[1;33m)\u001b[0m\u001b[1;33m\u001b[0m\u001b[1;33m\u001b[0m\u001b[0m\n\u001b[0m\u001b[0;32m    449\u001b[0m \u001b[1;33m\u001b[0m\u001b[0m\n\u001b[0;32m    450\u001b[0m     \u001b[1;32mif\u001b[0m \u001b[0mchunksize\u001b[0m \u001b[1;32mor\u001b[0m \u001b[0miterator\u001b[0m\u001b[1;33m:\u001b[0m\u001b[1;33m\u001b[0m\u001b[1;33m\u001b[0m\u001b[0m\n",
      "\u001b[1;32mC:\\ProgramData\\Anaconda3\\lib\\site-packages\\pandas\\io\\parsers.py\u001b[0m in \u001b[0;36m__init__\u001b[1;34m(self, f, engine, **kwds)\u001b[0m\n\u001b[0;32m    878\u001b[0m             \u001b[0mself\u001b[0m\u001b[1;33m.\u001b[0m\u001b[0moptions\u001b[0m\u001b[1;33m[\u001b[0m\u001b[1;34m\"has_index_names\"\u001b[0m\u001b[1;33m]\u001b[0m \u001b[1;33m=\u001b[0m \u001b[0mkwds\u001b[0m\u001b[1;33m[\u001b[0m\u001b[1;34m\"has_index_names\"\u001b[0m\u001b[1;33m]\u001b[0m\u001b[1;33m\u001b[0m\u001b[1;33m\u001b[0m\u001b[0m\n\u001b[0;32m    879\u001b[0m \u001b[1;33m\u001b[0m\u001b[0m\n\u001b[1;32m--> 880\u001b[1;33m         \u001b[0mself\u001b[0m\u001b[1;33m.\u001b[0m\u001b[0m_make_engine\u001b[0m\u001b[1;33m(\u001b[0m\u001b[0mself\u001b[0m\u001b[1;33m.\u001b[0m\u001b[0mengine\u001b[0m\u001b[1;33m)\u001b[0m\u001b[1;33m\u001b[0m\u001b[1;33m\u001b[0m\u001b[0m\n\u001b[0m\u001b[0;32m    881\u001b[0m \u001b[1;33m\u001b[0m\u001b[0m\n\u001b[0;32m    882\u001b[0m     \u001b[1;32mdef\u001b[0m \u001b[0mclose\u001b[0m\u001b[1;33m(\u001b[0m\u001b[0mself\u001b[0m\u001b[1;33m)\u001b[0m\u001b[1;33m:\u001b[0m\u001b[1;33m\u001b[0m\u001b[1;33m\u001b[0m\u001b[0m\n",
      "\u001b[1;32mC:\\ProgramData\\Anaconda3\\lib\\site-packages\\pandas\\io\\parsers.py\u001b[0m in \u001b[0;36m_make_engine\u001b[1;34m(self, engine)\u001b[0m\n\u001b[0;32m   1112\u001b[0m     \u001b[1;32mdef\u001b[0m \u001b[0m_make_engine\u001b[0m\u001b[1;33m(\u001b[0m\u001b[0mself\u001b[0m\u001b[1;33m,\u001b[0m \u001b[0mengine\u001b[0m\u001b[1;33m=\u001b[0m\u001b[1;34m\"c\"\u001b[0m\u001b[1;33m)\u001b[0m\u001b[1;33m:\u001b[0m\u001b[1;33m\u001b[0m\u001b[1;33m\u001b[0m\u001b[0m\n\u001b[0;32m   1113\u001b[0m         \u001b[1;32mif\u001b[0m \u001b[0mengine\u001b[0m \u001b[1;33m==\u001b[0m \u001b[1;34m\"c\"\u001b[0m\u001b[1;33m:\u001b[0m\u001b[1;33m\u001b[0m\u001b[1;33m\u001b[0m\u001b[0m\n\u001b[1;32m-> 1114\u001b[1;33m             \u001b[0mself\u001b[0m\u001b[1;33m.\u001b[0m\u001b[0m_engine\u001b[0m \u001b[1;33m=\u001b[0m \u001b[0mCParserWrapper\u001b[0m\u001b[1;33m(\u001b[0m\u001b[0mself\u001b[0m\u001b[1;33m.\u001b[0m\u001b[0mf\u001b[0m\u001b[1;33m,\u001b[0m \u001b[1;33m**\u001b[0m\u001b[0mself\u001b[0m\u001b[1;33m.\u001b[0m\u001b[0moptions\u001b[0m\u001b[1;33m)\u001b[0m\u001b[1;33m\u001b[0m\u001b[1;33m\u001b[0m\u001b[0m\n\u001b[0m\u001b[0;32m   1115\u001b[0m         \u001b[1;32melse\u001b[0m\u001b[1;33m:\u001b[0m\u001b[1;33m\u001b[0m\u001b[1;33m\u001b[0m\u001b[0m\n\u001b[0;32m   1116\u001b[0m             \u001b[1;32mif\u001b[0m \u001b[0mengine\u001b[0m \u001b[1;33m==\u001b[0m \u001b[1;34m\"python\"\u001b[0m\u001b[1;33m:\u001b[0m\u001b[1;33m\u001b[0m\u001b[1;33m\u001b[0m\u001b[0m\n",
      "\u001b[1;32mC:\\ProgramData\\Anaconda3\\lib\\site-packages\\pandas\\io\\parsers.py\u001b[0m in \u001b[0;36m__init__\u001b[1;34m(self, src, **kwds)\u001b[0m\n\u001b[0;32m   1889\u001b[0m         \u001b[0mkwds\u001b[0m\u001b[1;33m[\u001b[0m\u001b[1;34m\"usecols\"\u001b[0m\u001b[1;33m]\u001b[0m \u001b[1;33m=\u001b[0m \u001b[0mself\u001b[0m\u001b[1;33m.\u001b[0m\u001b[0musecols\u001b[0m\u001b[1;33m\u001b[0m\u001b[1;33m\u001b[0m\u001b[0m\n\u001b[0;32m   1890\u001b[0m \u001b[1;33m\u001b[0m\u001b[0m\n\u001b[1;32m-> 1891\u001b[1;33m         \u001b[0mself\u001b[0m\u001b[1;33m.\u001b[0m\u001b[0m_reader\u001b[0m \u001b[1;33m=\u001b[0m \u001b[0mparsers\u001b[0m\u001b[1;33m.\u001b[0m\u001b[0mTextReader\u001b[0m\u001b[1;33m(\u001b[0m\u001b[0msrc\u001b[0m\u001b[1;33m,\u001b[0m \u001b[1;33m**\u001b[0m\u001b[0mkwds\u001b[0m\u001b[1;33m)\u001b[0m\u001b[1;33m\u001b[0m\u001b[1;33m\u001b[0m\u001b[0m\n\u001b[0m\u001b[0;32m   1892\u001b[0m         \u001b[0mself\u001b[0m\u001b[1;33m.\u001b[0m\u001b[0munnamed_cols\u001b[0m \u001b[1;33m=\u001b[0m \u001b[0mself\u001b[0m\u001b[1;33m.\u001b[0m\u001b[0m_reader\u001b[0m\u001b[1;33m.\u001b[0m\u001b[0munnamed_cols\u001b[0m\u001b[1;33m\u001b[0m\u001b[1;33m\u001b[0m\u001b[0m\n\u001b[0;32m   1893\u001b[0m \u001b[1;33m\u001b[0m\u001b[0m\n",
      "\u001b[1;32mpandas\\_libs\\parsers.pyx\u001b[0m in \u001b[0;36mpandas._libs.parsers.TextReader.__cinit__\u001b[1;34m()\u001b[0m\n",
      "\u001b[1;32mpandas\\_libs\\parsers.pyx\u001b[0m in \u001b[0;36mpandas._libs.parsers.TextReader._setup_parser_source\u001b[1;34m()\u001b[0m\n",
      "\u001b[1;31mFileNotFoundError\u001b[0m: [Errno 2] File /datasets/games.csv does not exist: '/datasets/games.csv'"
     ]
    }
   ],
   "source": [
    "#Подгружаем файл с данными\n",
    "df=pd.read_csv('/datasets/games.csv')"
   ]
  },
  {
   "cell_type": "code",
   "execution_count": null,
   "metadata": {},
   "outputs": [],
   "source": [
    "#Выводим информацию о датасете\n",
    "df.info()"
   ]
  },
  {
   "cell_type": "code",
   "execution_count": null,
   "metadata": {},
   "outputs": [],
   "source": [
    "#Выведем первые 5 строк\n",
    "df.head()"
   ]
  },
  {
   "cell_type": "code",
   "execution_count": null,
   "metadata": {},
   "outputs": [],
   "source": [
    "#Посмотрим наличие дубликатов\n",
    "print('Дубликаты в данных :', df.duplicated().sum())"
   ]
  },
  {
   "cell_type": "markdown",
   "metadata": {},
   "source": [
    "<div class=\"alert alert-info\">\n",
    "    \n",
    "**ВЫВОД (ШАГ 1):**📝\n",
    "* **В датафрейме 11 столбцов с данными**\n",
    "* **Дубликаты не обнаружены**\n",
    "* **Имеются пропуски в столбцах:** Name, Year_of_Release, Genre, Critic_Score, User_Score, Rating.\n",
    "* **Необходимо изменить типы данных:** \n",
    "    Year_of_Release (Float >>> Int),\n",
    "    Critic_score (Float >>> Int)\n",
    "    User_score (Object >>> Float),\n",
    "    \n",
    "<br>\n",
    "    \n",
    "</div>"
   ]
  },
  {
   "cell_type": "markdown",
   "metadata": {},
   "source": [
    "#  Шаг 2. Подготовка данных. \n",
    "* Замена названий столбцов (приведение к нижнему регистру);\n",
    "* Преобразование данных в нужные типы. В каких столбцах был заменён тип данных и почему;\n",
    "* Обработка пропусков при необходимости:\n",
    "1. Почему заполнили пропуски определённым образом или почему не стали это делать;\n",
    "2. Опишисание причин, которые могли привести к пропускам;\n",
    "3. Обратите внимание на аббревиатуру 'tbd' в столбцах с рейтингом. Отдельно разберите это значение и опишите, как его обработать;\n"
   ]
  },
  {
   "cell_type": "markdown",
   "metadata": {},
   "source": [
    "#### Замена названий столбцов"
   ]
  },
  {
   "cell_type": "code",
   "execution_count": null,
   "metadata": {},
   "outputs": [],
   "source": [
    "#Приведём название столбцов к нижнему регистру\n",
    "df.columns = map(str.lower, df.columns)"
   ]
  },
  {
   "cell_type": "code",
   "execution_count": null,
   "metadata": {},
   "outputs": [],
   "source": [
    "#Проверим\n",
    "df.info()"
   ]
  },
  {
   "cell_type": "markdown",
   "metadata": {},
   "source": [
    "#### Обработка столбца 'year_of_release'"
   ]
  },
  {
   "cell_type": "code",
   "execution_count": null,
   "metadata": {},
   "outputs": [],
   "source": [
    "df['year_of_release'].describe()"
   ]
  },
  {
   "cell_type": "code",
   "execution_count": null,
   "metadata": {},
   "outputs": [],
   "source": [
    "#Поскольку количество пропусков 269, что составляет менее 2% данных, заполним пропуски медианой\n",
    "df['year_of_release']=df['year_of_release'].fillna(df['year_of_release'].median())"
   ]
  },
  {
   "cell_type": "code",
   "execution_count": null,
   "metadata": {},
   "outputs": [],
   "source": [
    "#Переведём значение столбца year_of_release в int, т.к. год выпуска игры не может быть дробным\n",
    "df['year_of_release']=df['year_of_release'].astype('int')"
   ]
  },
  {
   "cell_type": "code",
   "execution_count": null,
   "metadata": {},
   "outputs": [],
   "source": [
    "df['year_of_release'].head()"
   ]
  },
  {
   "cell_type": "markdown",
   "metadata": {},
   "source": [
    "#### Обработка столбцов 'name' и 'genre'"
   ]
  },
  {
   "cell_type": "code",
   "execution_count": null,
   "metadata": {},
   "outputs": [],
   "source": [
    "#Поскольку количество пропусков в столбцах 'name' и 'genre' всего 2, ими можно принебречь и удалить строки с этими пропусками\n",
    "df.dropna(subset=['name', 'genre'], inplace=True)"
   ]
  },
  {
   "cell_type": "code",
   "execution_count": null,
   "metadata": {},
   "outputs": [],
   "source": [
    "#Проверим вывод\n",
    "df.info()"
   ]
  },
  {
   "cell_type": "markdown",
   "metadata": {},
   "source": [
    "#### Обработка столбца 'critic_score'"
   ]
  },
  {
   "cell_type": "code",
   "execution_count": null,
   "metadata": {},
   "outputs": [],
   "source": [
    "#Изучим значения столбца\n",
    "df['critic_score'].describe()"
   ]
  },
  {
   "cell_type": "code",
   "execution_count": null,
   "metadata": {},
   "outputs": [],
   "source": [
    "#Поскольку все значения в рейтинге имеют целые числа, можно перевести из float в int\n",
    "df['critic_score']=df['critic_score'].astype('Int64')"
   ]
  },
  {
   "cell_type": "code",
   "execution_count": null,
   "metadata": {},
   "outputs": [],
   "source": [
    "#Проверим\n",
    "df['critic_score'].head(10)"
   ]
  },
  {
   "cell_type": "markdown",
   "metadata": {},
   "source": [
    "#### Обработка столбца 'user_score'"
   ]
  },
  {
   "cell_type": "code",
   "execution_count": null,
   "metadata": {},
   "outputs": [],
   "source": [
    "#Выведем уникальные значения столбца\n",
    "df['user_score'].value_counts()"
   ]
  },
  {
   "cell_type": "markdown",
   "metadata": {},
   "source": [
    "Оказалось помимо пропусков достаточно много значений 'tbd', в данном случае сделаем предположение, \n",
    "что эта аббревиатура означает,'To be determinated', то есть \"Будет определено\". \n",
    "В данном случае скорее всего данные просто ещё не добавлены. Следует заменить их на NaN чтобы была возможность проводить числовые операции"
   ]
  },
  {
   "cell_type": "code",
   "execution_count": null,
   "metadata": {},
   "outputs": [],
   "source": [
    "#Заменим 'tbd' на нулевое значение\n",
    "df['user_score']=df['user_score'].str.replace('tbd', 'NaN')"
   ]
  },
  {
   "cell_type": "code",
   "execution_count": null,
   "metadata": {},
   "outputs": [],
   "source": [
    "#Числовые данные рейтинга не должны быть object, переведём в float, поскольку многие оценки - дробные числа.\n",
    "df['user_score']=df['user_score'].astype('Float64')"
   ]
  },
  {
   "cell_type": "code",
   "execution_count": null,
   "metadata": {},
   "outputs": [],
   "source": [
    "df.info()"
   ]
  },
  {
   "cell_type": "code",
   "execution_count": null,
   "metadata": {},
   "outputs": [],
   "source": [
    "#Посчитаем суммарные продажи по всем регионам\n",
    "df['world_sales']=df['na_sales']+df['jp_sales']+df['other_sales']+df['eu_sales']"
   ]
  },
  {
   "cell_type": "code",
   "execution_count": null,
   "metadata": {},
   "outputs": [],
   "source": [
    "#проверим вывод\n",
    "df.head()"
   ]
  },
  {
   "cell_type": "markdown",
   "metadata": {},
   "source": [
    "<div class=\"alert alert-info\">\n",
    "    \n",
    "**ВЫВОД (ШАГ 2):**📝\n",
    "* **Названия столбцов приведены к нижнему регистру**\n",
    "* **Дубликаты не обнаружены**\n",
    "* **Удалены пропуски в столбцах :** Name, Genre - т.к. всего 2 пропуска и этими данными можно принебречь\n",
    "* **Удалены пропуски в столбцах :** Year_of_Release - заполнены медианой, т.к. значений меньше 2%, это не даст сильного искажения данных\n",
    "* **Пропуски в столбцах не заполнялись:** Critic_Score, User_Score, Rating - т.к. пропущенных значений очень много, а заполнение значений рейтингов медианой или средним очень сильно исказит дальнейшие исследования т.к. будет очень большая концентрация наблюдений со схожими параметрами. Но при этом удалять строки с пропусками тоже не корректно т.к. это может привести к серьёзным отклонениям по другим зависимым от них столбцам - год выпуска, платформа\n",
    "* **Возможные причины возникновения пропусков:** \n",
    "* **1. User_Score** Отсутствующие значения в пользовательских рейтингах могли означать просто отсутствие оценок в конкретном интернет магазине.\n",
    "* **2. Critic_Score** Поскольку достоверно не известно, откуда взята информаци об оценке критиками, можно предположить, что просто не вся информация заполнена в данном случае\n",
    "* **Аббревиатура 'tbd' в 'user_score':** Данная аббревиатура скорее всего означает 'To be determinated', то есть \"Будет определено\". То есть в данный момент значения отсутствуют или не попали в выгрузку. Что в данном случае равноценно пропущенным значениям в данном столбце.      \n",
    "\n",
    "* **Создан столбец 'world_sales', суммирующий все продажи по миру**\n",
    "<br>\n",
    "    \n",
    "</div>"
   ]
  },
  {
   "cell_type": "markdown",
   "metadata": {},
   "source": [
    "#  Шаг 3. Исследовательский анализ данных. \n",
    "* Посмотрим, сколько игр выпускалось в разные годы. Важны ли данные за все периоды?\n",
    "* Посмотрим, как менялись продажи по платформам. Выберем платформы с наибольшими суммарными продажами и построим распределение по годам. За какой характерный срок появляются новые и исчезают старые платформы?\n",
    "* Возьмём данные за соответствующий актуальный период. Актуальный период определим самостоятельно в результате исследования предыдущих вопросов. Основной фактор — эти данные помогут построить прогноз на 2017 год.\n",
    "* Не учитывайте в работе данные за предыдущие годы.\n",
    "* Какие платформы лидируют по продажам, растут или падают? Выберем несколько потенциально прибыльных платформ.\n",
    "* Построим график «ящик с усами» по глобальным продажам игр в разбивке по платформам. Опишем результат.\n",
    "* Посмотрим, как влияют на продажи внутри одной популярной платформы отзывы пользователей и критиков. Построим диаграмму рассеяния и посчитаем корреляцию между отзывами и продажами. Сформулируем выводы.\n",
    "* Соотнесём выводы с продажами игр на других платформах.\n",
    "* Посмотрим на общее распределение игр по жанрам. Что можно сказать о самых прибыльных жанрах? Выделяются ли жанры с высокими и низкими продажами?"
   ]
  },
  {
   "cell_type": "code",
   "execution_count": null,
   "metadata": {},
   "outputs": [],
   "source": [
    "#Построим график выпуска игр по годам\n",
    "rcParams['figure.figsize'] = 15, 8\n",
    "sns.distplot(df['year_of_release'])"
   ]
  },
  {
   "cell_type": "code",
   "execution_count": null,
   "metadata": {},
   "outputs": [],
   "source": [
    "#Проверим, в каких интервалах лежат большинство игр\n",
    "df['year_of_release'].describe(percentiles=[.05,.97])"
   ]
  },
  {
   "cell_type": "code",
   "execution_count": null,
   "metadata": {},
   "outputs": [],
   "source": [
    "#Попробуем убрать игры, которые выпускались до 1996 года и посмотреть распределение по платформам и годам\n",
    "#Уберём игры, выпускавшиеся до 2013 годаб т.к. такая выборка будет более информативна для нашей задачи и сохраним новую переменную\n",
    "variable=1995 \n",
    "df=df.query('year_of_release > @variable') #Срез для игр после 1995 года"
   ]
  },
  {
   "cell_type": "code",
   "execution_count": null,
   "metadata": {},
   "outputs": [],
   "source": [
    "#Сделаем сводную таблицу\n",
    "All_time_sales_platform=df.pivot_table(index='platform',  values='world_sales', aggfunc='sum')"
   ]
  },
  {
   "cell_type": "code",
   "execution_count": null,
   "metadata": {},
   "outputs": [],
   "source": [
    "All_time_sales_platform=All_time_sales_platform.sort_values(by='world_sales', ascending=False)"
   ]
  },
  {
   "cell_type": "code",
   "execution_count": null,
   "metadata": {},
   "outputs": [],
   "source": [
    "#Построим график с распределением по платформам и продажам\n",
    "rcParams['figure.figsize'] = 15, 8\n",
    "All_time_sales_platform.plot(kind='bar')"
   ]
  },
  {
   "cell_type": "code",
   "execution_count": null,
   "metadata": {},
   "outputs": [],
   "source": [
    "#Попробуем проанализировать срок жизни платформы на примере Playstatin, Xbox и Wii\n",
    "PS_dict=['PS2'] #Словарь для платформ Playstation\n",
    "PS2_sales=df.query('platform in @PS_dict')    #Условие для отбора значений\n",
    "PS2_sales=PS2_sales.pivot_table(index='platform', columns='year_of_release', values='world_sales', aggfunc='sum')"
   ]
  },
  {
   "cell_type": "code",
   "execution_count": null,
   "metadata": {},
   "outputs": [],
   "source": [
    "rcParams['figure.figsize'] = 15, 8\n",
    "PS2_sales.plot(kind='bar')"
   ]
  },
  {
   "cell_type": "code",
   "execution_count": null,
   "metadata": {},
   "outputs": [],
   "source": [
    "XBOX_dict=['X360'] #Словарь для платформ X360\n",
    "X360_sales=df.query('platform in @XBOX_dict')    #Условие для отбора значений\n",
    "X360_sales=X360_sales.pivot_table(index='platform', columns='year_of_release', values='world_sales', aggfunc='sum')"
   ]
  },
  {
   "cell_type": "code",
   "execution_count": null,
   "metadata": {},
   "outputs": [],
   "source": [
    "rcParams['figure.figsize'] = 15, 8\n",
    "X360_sales.plot(kind='bar')"
   ]
  },
  {
   "cell_type": "code",
   "execution_count": null,
   "metadata": {},
   "outputs": [],
   "source": [
    "Wii_dict=['Wii'] #Словарь для платформы Wii\n",
    "Wii_sales=df.query('platform in @Wii_dict')    #Условие для отбора значений\n",
    "Wii_sales=Wii_sales.pivot_table(index='platform', columns='year_of_release', values='world_sales', aggfunc='sum')"
   ]
  },
  {
   "cell_type": "code",
   "execution_count": null,
   "metadata": {},
   "outputs": [],
   "source": [
    "rcParams['figure.figsize'] = 15, 8\n",
    "Wii_sales.plot(kind='bar')"
   ]
  },
  {
   "cell_type": "markdown",
   "metadata": {},
   "source": [
    "* Судя по графикам, можно сделать вывод, что максимальную популярность платформа сохраняет примерно 5 лет.\n",
    "* Поскольку наша задача, выявить потенциально успешные продукты на 2017год, в дальнейшем следует использовать платформы, срок жизни которых не должен быть более 5 лет, включая 2017 год. То есть наш интервал это 2013-2016. \n",
    "\n",
    "<div style=\"border:solid green 2px; padding: 20px\"> <h1 style=\"color:green; margin-bottom:20px\">Комментарий наставника</h1>\n",
    "\n",
    "Актуальный период выбран верно."
   ]
  },
  {
   "cell_type": "code",
   "execution_count": null,
   "metadata": {},
   "outputs": [],
   "source": [
    "#Уберём игры, выпускавшиеся до 2013 годаб т.к. такая выборка подходит под наш актуальный период\n",
    "variable=2012\n",
    "df_2013=df.query('year_of_release > @variable')"
   ]
  },
  {
   "cell_type": "code",
   "execution_count": null,
   "metadata": {},
   "outputs": [],
   "source": [
    "#Посмотрим на новое распределение платформ\n",
    "Actual_sales_platform=df_2013.pivot_table(index='platform', values='world_sales', aggfunc='sum') #сводная таблица по периоду 2013-16\n",
    "Actual_sales_platform.sort_values(by='world_sales', ascending=False).head(5) #сортировка по убыванию"
   ]
  },
  {
   "cell_type": "code",
   "execution_count": null,
   "metadata": {},
   "outputs": [],
   "source": [
    "Actual_sales_platform=Actual_sales_platform.sort_values(by='world_sales', ascending=False)"
   ]
  },
  {
   "cell_type": "code",
   "execution_count": null,
   "metadata": {},
   "outputs": [],
   "source": [
    "#Выведем графическую информацию\n",
    "rcParams['figure.figsize'] = 15, 8\n",
    "Actual_sales_platform.plot(kind='bar')"
   ]
  },
  {
   "cell_type": "markdown",
   "metadata": {},
   "source": [
    "* Распределение платформ по продажам сильно изменилось, теперь топ 5 платформ: **PS4, PS3, XOne, 3DS, X360**"
   ]
  },
  {
   "cell_type": "code",
   "execution_count": null,
   "metadata": {},
   "outputs": [],
   "source": [
    "#Посмотрим на динамику платформ\n",
    "Actual_sales_platform_dynamic=df_2013.pivot_table(index='platform', columns='year_of_release', values='world_sales', aggfunc='sum')"
   ]
  },
  {
   "cell_type": "code",
   "execution_count": null,
   "metadata": {},
   "outputs": [],
   "source": [
    "#Выведем на график\n",
    "rcParams['figure.figsize'] = 15, 8\n",
    "Actual_sales_platform_dynamic.plot(kind='bar')"
   ]
  },
  {
   "cell_type": "markdown",
   "metadata": {},
   "source": [
    "#### Учитывая, что данные за 2016 могут быть не полные можно взять за критерии роста 2 фактора:\n",
    "1. Отношение продаж 2015 к 2014\n",
    "2. Суммарные продажи за 2016.\n",
    "\n",
    "#### Исходя из этого можно сделать следующие выводы:\n",
    "* Продажи по платформам: **3DS, PS3, WiiU и X360 - падают**\n",
    "* Продажи по платформам: **XOne, PS4 - растут**"
   ]
  },
  {
   "cell_type": "markdown",
   "metadata": {},
   "source": [
    "### Построим график «ящик с усами» по глобальным продажам игр в разбивке по платформам. "
   ]
  },
  {
   "cell_type": "code",
   "execution_count": null,
   "metadata": {},
   "outputs": [],
   "source": [
    "#Чтобы получить более точные данные, отсечём выбросы циклом на основе диаграммы размаха по нужным столбцам\n",
    "df_2013_box=df_2013\n",
    "for column in ['world_sales', 'na_sales', 'other_sales', 'eu_sales', 'jp_sales']:\n",
    "    Q1 = df_2013_box[column].quantile(0.25)\n",
    "    Q3 = df_2013_box[column].quantile(0.75)\n",
    "    IQR = Q3 - Q1\n",
    "    min_border = Q1-1.5*IQR\n",
    "    max_border = Q3+1.5*IQR\n",
    "    df_2013_box.drop(df_2013_box[(df_2013_box[column] < min_border) | (df_2013_box[column] > max_border)].index, inplace=True)"
   ]
  },
  {
   "cell_type": "code",
   "execution_count": null,
   "metadata": {},
   "outputs": [],
   "source": [
    "#Сделаем сводную таблицу по гл.продажам игр в разбивке по платформам\n",
    "games_sales_platform=df_2013_box.pivot_table(index='name', columns='platform', values='world_sales', aggfunc='sum')\n"
   ]
  },
  {
   "cell_type": "code",
   "execution_count": null,
   "metadata": {},
   "outputs": [],
   "source": [
    "rcParams['figure.figsize'] = 15, 8\n",
    "order = ['WiiU','X360', 'XOne','Wii', 'DS','PS4', 'PS3', '3DS',   'PC', 'PSV', 'PSP']\n",
    "ax = sns.boxplot(data=games_sales_platform, palette=\"Set1\", orient=\"h\", order=order) \n",
    "                "
   ]
  },
  {
   "cell_type": "code",
   "execution_count": null,
   "metadata": {},
   "outputs": [],
   "source": [
    "#Посмотрим также информацию в виде таблицы\n",
    "games_sales_platform.describe()"
   ]
  },
  {
   "cell_type": "markdown",
   "metadata": {},
   "source": [
    "* Если рассматривать все продажи, то самые прибыльные платформы: **X360 и WiiU** \n",
    "* А по средним продажам на игру: **X360, WiiU и XOne** \n"
   ]
  },
  {
   "cell_type": "markdown",
   "metadata": {},
   "source": [
    "### Посмотрим, как влияют на продажи внутри одной популярной платформы отзывы пользователей и критиков. Построим диаграмму рассеяния и посчитаем корреляцию между отзывами и продажами. "
   ]
  },
  {
   "cell_type": "code",
   "execution_count": null,
   "metadata": {},
   "outputs": [],
   "source": [
    "#Выберем платформц PS4\n",
    "PS4_plot=df_2013.query('platform==\"PS4\"')"
   ]
  },
  {
   "cell_type": "code",
   "execution_count": null,
   "metadata": {},
   "outputs": [],
   "source": [
    "#Посмотрим на взаимосвязь уровня продаж и оценок критиков и юзеров\n",
    "cols = ['world_sales', 'critic_score','user_score']\n",
    "sns_plot = sns.pairplot(PS4_plot[cols])"
   ]
  },
  {
   "cell_type": "code",
   "execution_count": null,
   "metadata": {},
   "outputs": [],
   "source": [
    "#и отдельно по user_score/world_sales\n",
    "rcParams['figure.figsize'] = 10, 5\n",
    "PS4_plot.plot(x='critic_score', y='world_sales', kind='scatter')"
   ]
  },
  {
   "cell_type": "code",
   "execution_count": null,
   "metadata": {},
   "outputs": [],
   "source": [
    "#И по рейтингу критиков\n",
    "rcParams['figure.figsize'] = 10, 5\n",
    "PS4_plot.plot(x='user_score', y='world_sales', kind='scatter')"
   ]
  },
  {
   "cell_type": "code",
   "execution_count": null,
   "metadata": {},
   "outputs": [],
   "source": [
    "PS4_plot.corr()"
   ]
  },
  {
   "cell_type": "markdown",
   "metadata": {},
   "source": [
    "### После построения гистограм рассеивания и вывода коэффициента корреляции можно сделать следующие выводы:\n",
    "* Коээфициент корреляции между оценками пользователей и глобальными продажами: -0.031957 - незначительно отрицательная взаимосвязь, значение очень близкое к нулю. То есть оценки пользователей и продажи практически независимы между собой\n",
    "\n",
    "* Коээфициент корреляции между оценками критиков и глобальными продажами:: 0.406568 - положительная взаимосвязь, что может говорить о положительной зависимости между оценками критиков т.е. есть влияние оценки критиков и глобальных продаж\n",
    "\n",
    "* Если посмотрим на диаграммы, то видно, что прослеживается тенденция к увеличению продаж при увеличении оценки критиков.\n",
    "* В то время как по оценкам пользователей нельзя однозначно проследить зависимость."
   ]
  },
  {
   "cell_type": "markdown",
   "metadata": {},
   "source": [
    "### Будет ли принципиально различаться распределение по другим платформам?"
   ]
  },
  {
   "cell_type": "code",
   "execution_count": null,
   "metadata": {},
   "outputs": [],
   "source": [
    "#Выберем платформц PS4\n",
    "Other_plot=df_2013.query('platform != \"PS4\"')"
   ]
  },
  {
   "cell_type": "code",
   "execution_count": null,
   "metadata": {},
   "outputs": [],
   "source": [
    "#Посмотрим на взаимосвязь уровня продаж и оценок критиков и юзеров для всех других платформ\n",
    "cols = ['world_sales', 'critic_score','user_score']\n",
    "sns_plot = sns.pairplot(Other_plot[cols])"
   ]
  },
  {
   "cell_type": "code",
   "execution_count": null,
   "metadata": {},
   "outputs": [],
   "source": [
    "Other_plot.corr()"
   ]
  },
  {
   "cell_type": "markdown",
   "metadata": {},
   "source": [
    "### После построения гистограм рассеивания и вывода коэффициента корреляции можно сделать следующие выводы для всех платформ, кроме PS4:\n",
    "* Коээфициент корреляции между оценками пользователей и глобальными продажами: -0.001122 - ОЧЕНЬ незначительно отрицательная взаимосвязь, значение очень близкое к нулю. То есть оценки пользователей и продажи практически независимы между собой\n",
    "\n",
    "* Коээфициент корреляции между оценками критиков и глобальными продажами:: 0.281251 - положительная взаимосвязь, но менее выраженная взаимосвязь, что может говорить о положительной зависимости между оценками критиков т.е. есть влияние оценки критиков и глобальных продаж\n",
    "\n",
    "### В итоге можем говорить о том, что:\n",
    "* Оценки критиков **влияют** на глобальные продажи (Особенно на PS4)\n",
    "* Оценки пользователей **НЕ влияют** на глобальные продажи\n",
    "\n"
   ]
  },
  {
   "cell_type": "markdown",
   "metadata": {},
   "source": [
    "### Далее выясним:\n",
    "\n",
    "* Общее распределение игр по жанрам. \n",
    "* Что можно сказать о самых прибыльных жанрах? \n",
    "* Выделяются ли жанры с высокими и низкими продажами?"
   ]
  },
  {
   "cell_type": "code",
   "execution_count": null,
   "metadata": {},
   "outputs": [],
   "source": [
    "#Сделаем сводную таблицу с распределением игр по жанрам\n",
    "allgames=df_2013.pivot_table(index='genre', values='name', aggfunc='count')"
   ]
  },
  {
   "cell_type": "code",
   "execution_count": null,
   "metadata": {},
   "outputs": [],
   "source": [
    "#Отсортируем по убыванию и выведем на экран\n",
    "allgames=allgames.sort_values(by='name', ascending=False)"
   ]
  },
  {
   "cell_type": "code",
   "execution_count": null,
   "metadata": {},
   "outputs": [],
   "source": [
    "allgames.plot(kind='bar')"
   ]
  },
  {
   "cell_type": "markdown",
   "metadata": {},
   "source": []
  },
  {
   "cell_type": "markdown",
   "metadata": {},
   "source": [
    "### Безоговорочным лидером стал жанр 'Action', а вот паззлов ('Puzzle') выпускают мало."
   ]
  },
  {
   "cell_type": "code",
   "execution_count": null,
   "metadata": {},
   "outputs": [],
   "source": [
    "#Построим тепловую карту (heatmap), чтобы посмотреть какие жанры принесли больше всего денег\n",
    "genre_sales = df_2013.pivot_table(\n",
    "                        index='genre', \n",
    "                        values='world_sales', \n",
    "                        aggfunc=sum).fillna(0).applymap(float).sort_values(by='world_sales', ascending=False)\n",
    "                        \n",
    "\n",
    "sns.heatmap(genre_sales, annot=True, fmt=\".1f\", linewidths=.5)\n",
    "\n"
   ]
  },
  {
   "cell_type": "code",
   "execution_count": null,
   "metadata": {},
   "outputs": [],
   "source": [
    "#Заодно посмотрим с распределением по платформам\n",
    "platform_genre_sales = df_2013.pivot_table(\n",
    "                        index='platform', \n",
    "                        columns='genre', \n",
    "                        values='world_sales', \n",
    "                        aggfunc=sum).fillna(0).applymap(float)\n",
    "\n",
    "\n",
    "sns.heatmap(platform_genre_sales, annot=True, fmt=\".1f\", linewidths=.5)\n"
   ]
  },
  {
   "cell_type": "markdown",
   "metadata": {},
   "source": [
    "### Проаназировав информацию, мы можем ответить на наши вопросы:\n",
    "\n",
    "* ТОП 5 жанров по **количеству** игр: **Action, Role-Playing, Adventure, Sports, Shooter.**\n",
    "* ТОП 5 самых **прибыльных** жанров:  **Action, Shooter, Sports, Role-Playing, Misc.**\n",
    "* Жанр с самыми низкими продажами: **Puzzle**\n",
    "\n",
    "\n"
   ]
  },
  {
   "cell_type": "markdown",
   "metadata": {},
   "source": [
    "<div class=\"alert alert-info\">\n",
    "    \n",
    "**ВЫВОД (ШАГ 3):**📝\n",
    "    \n",
    "* До **2000** года выпускалось сравнительно немного игр, а **пик** выпущенных игр приходится на **2007-2010 год**\n",
    "* В ходе исследования был выявлен примерный срок жизни платформ - **5 лет**\n",
    "* Для того, чтобы наш прогноз был корректен, был выбран **период 2013-2016 годов**, чтобы неактуальные платформы не попали в расчёт прогноза\n",
    "* Выявили платформы, у которых продажи падают: **3DS, PS3, WiiU и X360**. И наоборот растут: **XOne, PS4**\n",
    "* То есть наиболее перспективные платформы - **XOne, PS4**\n",
    "* Cамые прибыльные платформы: **X360 и PS4** \n",
    "* Cредниe продажы на игру: **X360 и XOne**   \n",
    "* Узнали, что **оценки критиков влияют** на глобальные продажи, а вот **оценки пользователей - нет.**\n",
    "* Выяснили ТОП 5 жанров по **количеству** игр: **Action, Role-Playing, Adventure, Sports, Shooter.**\n",
    "* Выяснили ТОП 5 самых **прибыльных** жанров:  **Action, Shooter, Sports, Role-Playing, Misc.**\n",
    "* И жанр с самыми низкими продажами и количеством игр: **Puzzle**\n",
    "\n",
    "\n",
    "<br>\n",
    "    \n",
    "</div>"
   ]
  },
  {
   "cell_type": "markdown",
   "metadata": {},
   "source": [
    "#  Шаг 4. Составление портрета пользователя каждого региона. \n",
    "**Определим для пользователя каждого региона (NA, EU, JP):**\n",
    "* Самые популярные платформы (топ-5). Различия в долях продаж.\n",
    "* Самые популярные жанры (топ-5). Поясните разницу.\n",
    "* Влияет ли рейтинг ESRB на продажи в отдельном регионе?\n"
   ]
  },
  {
   "cell_type": "code",
   "execution_count": null,
   "metadata": {},
   "outputs": [],
   "source": [
    "#Построим тепловую карту (heatmap), чтобы посмотреть самые популярные платформы в регионе NA\n",
    "na_sales = df_2013.pivot_table(\n",
    "                        index='platform', \n",
    "                        values='na_sales', \n",
    "                        aggfunc=sum).fillna(0).applymap(float).sort_values(by='na_sales', ascending=False)\n",
    "                        \n",
    "\n",
    "sns.heatmap(na_sales, annot=True, fmt=\".1f\", linewidths=.5)"
   ]
  },
  {
   "cell_type": "code",
   "execution_count": null,
   "metadata": {},
   "outputs": [],
   "source": [
    "#Построим график 'pie' для наглядности\n",
    "na_sales.plot(y='na_sales',kind='pie', figsize=(9,9))"
   ]
  },
  {
   "cell_type": "code",
   "execution_count": null,
   "metadata": {},
   "outputs": [],
   "source": [
    "#Построим тепловую карту (heatmap), чтобы посмотреть самые популярные платформы в регионе EU\n",
    "eu_sales = df_2013.pivot_table(\n",
    "                        index='platform', \n",
    "                        values='eu_sales', \n",
    "                        aggfunc=sum).fillna(0).applymap(float).sort_values(by='eu_sales', ascending=False)\n",
    "                        \n",
    "\n",
    "sns.heatmap(eu_sales, annot=True, fmt=\".1f\", linewidths=.5)"
   ]
  },
  {
   "cell_type": "code",
   "execution_count": null,
   "metadata": {},
   "outputs": [],
   "source": [
    "#Построим график 'pie' для наглядности\n",
    "eu_sales.plot(y='eu_sales',kind='pie', figsize=(9,9))"
   ]
  },
  {
   "cell_type": "code",
   "execution_count": null,
   "metadata": {},
   "outputs": [],
   "source": [
    "#Построим тепловую карту (heatmap), чтобы посмотреть самые популярные платформы в регионе JP\n",
    "jp_sales = df_2013.pivot_table(\n",
    "                        index='platform', \n",
    "                        values='jp_sales', \n",
    "                        aggfunc=sum).fillna(0).applymap(float).sort_values(by='jp_sales', ascending=False)\n",
    "                        \n",
    "\n",
    "sns.heatmap(jp_sales, annot=True, fmt=\".1f\", linewidths=.5)"
   ]
  },
  {
   "cell_type": "code",
   "execution_count": null,
   "metadata": {},
   "outputs": [],
   "source": [
    "#Построим график 'pie' для наглядности\n",
    "jp_sales.plot(y='jp_sales',kind='pie', figsize=(9,9))"
   ]
  },
  {
   "cell_type": "markdown",
   "metadata": {},
   "source": [
    "### Что в итоге получилось по популярности платформ в разных регионах:\n",
    "* Топ 5 платформ NA: **PS4, XOne, X360, PS3, 3DS**\n",
    "* Топ 5 платформ EU: **PS4, PS3, XOne, X360, 3DS**\n",
    "* Топ 5 платформ JP: **3DS, PS3, PSV, PS4, WiiU**\n",
    "\n",
    "#### В европе и северной америке похожее распределение по предпочтительным платформам. \n",
    "#### А вот в Японии в топ 5 исключительно японские платформы, японцы очень патриотичны, либо стоимость местных платформ там значительно ниже, а может и то и другое😄"
   ]
  },
  {
   "cell_type": "code",
   "execution_count": null,
   "metadata": {},
   "outputs": [],
   "source": [
    "#Теперь посмотрим как дело обстоит с жанрами в разных регионах\n",
    "#Построим тепловую карту (heatmap), чтобы посмотреть самые популярные жанры в регионе NA\n",
    "na_genre_sales = df_2013.pivot_table(\n",
    "                        index='genre', \n",
    "                        values='na_sales', \n",
    "                        aggfunc=sum).fillna(0).applymap(float).sort_values(by='na_sales', ascending=False)\n",
    "                        \n",
    "\n",
    "sns.heatmap(na_genre_sales, annot=True, fmt=\".1f\", linewidths=.5)"
   ]
  },
  {
   "cell_type": "code",
   "execution_count": null,
   "metadata": {},
   "outputs": [],
   "source": [
    "#Построим график 'pie' для наглядности\n",
    "na_genre_sales.plot(y='na_sales',kind='pie', figsize=(12,12))"
   ]
  },
  {
   "cell_type": "code",
   "execution_count": null,
   "metadata": {},
   "outputs": [],
   "source": [
    "#Построим тепловую карту (heatmap), чтобы посмотреть самые популярные жанры в регионе EU\n",
    "eu_genre_sales = df_2013.pivot_table(\n",
    "                        index='genre', \n",
    "                        values='eu_sales', \n",
    "                        aggfunc=sum).fillna(0).applymap(float).sort_values(by='eu_sales', ascending=False)\n",
    "                        \n",
    "\n",
    "sns.heatmap(eu_genre_sales, annot=True, fmt=\".1f\", linewidths=.5)"
   ]
  },
  {
   "cell_type": "code",
   "execution_count": null,
   "metadata": {},
   "outputs": [],
   "source": [
    "#Построим график 'pie' для наглядности\n",
    "eu_genre_sales.plot(y='eu_sales',kind='pie', figsize=(12,12))"
   ]
  },
  {
   "cell_type": "code",
   "execution_count": null,
   "metadata": {},
   "outputs": [],
   "source": [
    "#Построим тепловую карту (heatmap), чтобы посмотреть самые популярные жанры в регионе jp\n",
    "jp_genre_sales = df_2013.pivot_table(\n",
    "                        index='genre', \n",
    "                        values='jp_sales', \n",
    "                        aggfunc=sum).fillna(0).applymap(float).sort_values(by='jp_sales', ascending=False)\n",
    "                        \n",
    "\n",
    "sns.heatmap(jp_genre_sales, annot=True, fmt=\".1f\", linewidths=.5)"
   ]
  },
  {
   "cell_type": "code",
   "execution_count": null,
   "metadata": {},
   "outputs": [],
   "source": [
    "#Построим график 'pie' для наглядности\n",
    "jp_genre_sales.plot(y='jp_sales',kind='pie', figsize=(12,12))"
   ]
  },
  {
   "cell_type": "markdown",
   "metadata": {},
   "source": [
    "### Что в итоге получилось по популярности жанров в разных регионах:\n",
    "\n",
    "* Топ 5 жанров NA: **Action, Shooter, Sports, Role-Playing, Misc**\n",
    "* Топ 5 жанров EU: **Action, Shooter, Sports, Role-Playing, Racing**\n",
    "* Топ 5 жанров JP: **Role-Playing, Action, Misc, Fighting, Shooter**\n",
    "\n",
    "**В европе и северной америке опять похожее распределение, единственное, европейцы больше любят гоночные игры.** \n",
    "\n",
    "**А вот японцы как обычно отличились.**"
   ]
  },
  {
   "cell_type": "markdown",
   "metadata": {},
   "source": [
    "Влияет ли рейтинг ESRB на продажи в отдельном регионе?"
   ]
  },
  {
   "cell_type": "code",
   "execution_count": null,
   "metadata": {},
   "outputs": [],
   "source": [
    "#Заодно посмотрим с распределением по платформам\n",
    "ESRB_sales_NA = df_2013.pivot_table(\n",
    "                        index='rating', \n",
    "                        values='na_sales', \n",
    "                        aggfunc=sum).fillna(0).applymap(float).sort_values(by='na_sales', ascending=False)\n",
    "\n",
    "\n",
    "sns.heatmap(ESRB_sales_NA, annot=True, fmt=\".1f\", linewidths=.5)"
   ]
  },
  {
   "cell_type": "code",
   "execution_count": null,
   "metadata": {},
   "outputs": [],
   "source": [
    "#Заодно посмотрим с распределением по платформам\n",
    "ESRB_sales_EU = df_2013.pivot_table(\n",
    "                        index='rating', \n",
    "                        values='eu_sales', \n",
    "                        aggfunc=sum).fillna(0).applymap(float).sort_values(by='eu_sales', ascending=False)\n",
    "\n",
    "\n",
    "sns.heatmap(ESRB_sales_EU, annot=True, fmt=\".1f\", linewidths=.5)"
   ]
  },
  {
   "cell_type": "code",
   "execution_count": null,
   "metadata": {},
   "outputs": [],
   "source": [
    "#Заодно посмотрим с распределением по платформам\n",
    "ESRB_sales_JP = df_2013.pivot_table(\n",
    "                        index='rating', \n",
    "                        values='jp_sales', \n",
    "                        aggfunc=sum).fillna(0).applymap(float).sort_values(by='jp_sales', ascending=False)\n",
    "\n",
    "\n",
    "sns.heatmap(ESRB_sales_JP, annot=True, fmt=\".1f\", linewidths=.5)"
   ]
  },
  {
   "cell_type": "markdown",
   "metadata": {},
   "source": [
    "#### Выдержка по интересующим нас рейтингам ESRB из Википедии:\n",
    "\n",
    "* **«E» («Everyone») — «Для всех»:** Содержание вполне подходит для возрастной категории от 6 лет и старше; такие игры могут понравиться и взрослым. Игры с этим рейтингом могут содержать минимальное насилие, в основном «мультяшного» характера.\n",
    "\n",
    "* **«E10+» («Everyone 10 and older») — «Для всех от 10 лет и старше»:** Проекты с данным рейтингом могут содержать немного больше мультипликационного или мягкого насилия, или несколько откровенные сцены или минимальное количество крови.\n",
    "\n",
    "* **«T» («Teen») — «Подросткам»:** Игра подходит для лиц от 13 лет и старше. Проекты из данной категории могут содержать насилие, непристойные сцены, грубый юмор, в меру откровенное сексуальное содержимое, кровь или нечастое использование ненормативной лексики.\n",
    "\n",
    "* **«M» («Mature») — «Для взрослых»:** Материалы игры не подходят для подростков младше 17 лет. Проекты с данным рейтингом могут содержать достаточно жестокое насилие, большое количество крови с расчленением, непристойные сексуальные сцены или грубую ненормативную лексику, нежелательную для младшей аудитории.\n",
    "\n",
    "#### Распределение продаж относительно рейтинга ESRB  по регионам в порядке убывания:\n",
    "\n",
    "* **Северная Америка (NA):**M, E, E10+, T \n",
    "* **Европа (EU):** M, E, E10+, T \n",
    "* **Япония (JP):** T, E, M, E10+\n",
    "\n",
    "#### Опять похожая картина, Европа и С.Америка похожи по продажам игр относительно рейтинга ESRB, а Япония отличается."
   ]
  },
  {
   "cell_type": "markdown",
   "metadata": {},
   "source": [
    "<div class=\"alert alert-info\">\n",
    "    \n",
    "**ВЫВОД (ШАГ 4):**📝\n",
    "\n",
    "**ПОРТРЕТ АМЕРИКАНСКОГО ПОЛЬЗОВАТЕЛЯ(NA):**\n",
    "* Любимые платформы: **PS4, XOne**\n",
    "* Любимые жанры: **Action, Shooter**\n",
    "* Отдаёт предпочтение играм для взрослых (рейтинг ESRB - M)\n",
    "    \n",
    "**ПОРТРЕТ ЕВРОПЕЙСКОГО ПОЛЬЗОВАТЕЛЯ(EU):**\n",
    "* Любимые платформы: **PS4, PS3**\n",
    "* Любимые жанры: **Action, Shooter**\n",
    "* Отдаёт предпочтение играм для взрослых (рейтинг ESRB - M)    \n",
    "\n",
    "**ПОРТРЕТ ЯПОНСКОГО ПОЛЬЗОВАТЕЛЯ(JP):**\n",
    "* Любимые платформы: **3DS, PS3**\n",
    "* Любимые жанры: **Role-Playing, Action**\n",
    "* Отдаёт предпочтение играм c возрастным ограничением от **13 лет (рейтинг ESRB - T)** \n",
    "    \n",
    "**Получается, что магазину не обязательно подстраиваться под EU/NA рынок т.к. нет критических отличий в предпочтениях аудитории этих регионов. А вот под японский рынок придётся конкретно подстроиться, главное придерживаться принципа - \"Японцам - японское\"**\n",
    "\n",
    "<br>\n",
    "    \n",
    "</div>"
   ]
  },
  {
   "cell_type": "markdown",
   "metadata": {},
   "source": [
    "#  Шаг 5. Проверка гипотез. \n",
    "**Рейтинги платформ:**\n",
    "* **H0: Средние пользовательские рейтинги платформ Xbox One и PC одинаковые;**\n",
    "* **H1: Средние пользовательские рейтинги платформ Xbox One и PC различаются;**\n",
    "\n",
    "**Средние пользовательские рейтинги:**\n",
    "* **H0: Средние пользовательские рейтинги жанров Action (англ. «действие», экшен-игры) и Sports (англ. «спортивные соревнования») одинаковые.**\n",
    "* **H1: Средние пользовательские рейтинги жанров Action (англ. «действие», экшен-игры) и Sports (англ. «спортивные соревнования») разные.**\n",
    "\n",
    "**Необходимы пояснения:**\n",
    "* Как вы сформулировали нулевую и альтернативную гипотезы;\n",
    "* Какой критерий применили для проверки гипотез и почему.\n",
    "* Пороговое значение alpha задаём самостоятельно."
   ]
  },
  {
   "cell_type": "code",
   "execution_count": null,
   "metadata": {},
   "outputs": [],
   "source": [
    "#Выделим платформу PC\n",
    "platform_dict=['PC']\n",
    "PC_data=df_2013.query('platform in @platform_dict')"
   ]
  },
  {
   "cell_type": "code",
   "execution_count": null,
   "metadata": {},
   "outputs": [],
   "source": [
    "#Выведем значения\n",
    "PC_data.head()"
   ]
  },
  {
   "cell_type": "code",
   "execution_count": null,
   "metadata": {},
   "outputs": [],
   "source": [
    "#Выведем график распределения отдельно для PC\n",
    "\n",
    "sns.distplot(PC_data['user_score'].dropna())"
   ]
  },
  {
   "cell_type": "code",
   "execution_count": null,
   "metadata": {},
   "outputs": [],
   "source": [
    "#Выделим платформу XOne\n",
    "platform_dict2=['XOne']\n",
    "XOne_data=df_2013.query('platform in @platform_dict2')"
   ]
  },
  {
   "cell_type": "code",
   "execution_count": null,
   "metadata": {},
   "outputs": [],
   "source": [
    "#Выведем график распределения отдельно для XOne\n",
    "sns.distplot(XOne_data['user_score'].dropna())"
   ]
  },
  {
   "cell_type": "code",
   "execution_count": null,
   "metadata": {},
   "outputs": [],
   "source": [
    "sm.qqplot(PC_data['user_score'].dropna(), line='45')"
   ]
  },
  {
   "cell_type": "code",
   "execution_count": null,
   "metadata": {},
   "outputs": [],
   "source": [
    "sm.qqplot(XOne_data['user_score'].dropna(), line='45')"
   ]
  },
  {
   "cell_type": "markdown",
   "metadata": {},
   "source": [
    "# Выбор критерия\n",
    "* **Тип данных:** количественный\n",
    "* **Тип распределения:** отличное от нормального\n",
    "* **Зависимость групп**: независимые (разные платформы)\n",
    "* **Количество групп:** 2\n",
    "\n",
    "#### *В данном случае подойдёт критерий Манна-Уитни, поскольку он отвечает условиям нашего исследования.*\n"
   ]
  },
  {
   "cell_type": "code",
   "execution_count": null,
   "metadata": {},
   "outputs": [],
   "source": [
    "#Проведём тест Стьюдента для проверки гипотезы\n",
    "\n",
    "pc=PC_data['user_score'].dropna()\n",
    "xone=XOne_data['user_score'].dropna()\n",
    "\n",
    "alpha = .01 \n",
    "results = st.mannwhitneyu(pc, xone, alternative='two-sided')\n",
    "\n",
    "print('p-значение: {:.50f}'.format(results.pvalue))\n",
    "\n",
    "if results.pvalue < alpha:\n",
    "    print(\"Отвергаем нулевую гипотезу\")\n",
    "else:\n",
    "    print(\"Не получилось отвергнуть нулевую гипотезу\")"
   ]
  },
  {
   "cell_type": "markdown",
   "metadata": {},
   "source": [
    "### Нулевую гипотезу H0: Средние пользовательские рейтинги платформ Xbox One и PC одинаковые отвергуть не получилось.\n"
   ]
  },
  {
   "cell_type": "code",
   "execution_count": null,
   "metadata": {},
   "outputs": [],
   "source": [
    "#Выделим жанр Action\n",
    "genre_dict=['Action']\n",
    "action_data=df_2013.query('genre in @genre_dict')"
   ]
  },
  {
   "cell_type": "code",
   "execution_count": null,
   "metadata": {},
   "outputs": [],
   "source": [
    "#Выведем первые 10 строчек для проверки\n",
    "action_data.head(10)"
   ]
  },
  {
   "cell_type": "code",
   "execution_count": null,
   "metadata": {},
   "outputs": [],
   "source": [
    "#Выведем график распределения для жанра Action\n",
    "\n",
    "sns.distplot(action_data['user_score'].dropna())"
   ]
  },
  {
   "cell_type": "code",
   "execution_count": null,
   "metadata": {},
   "outputs": [],
   "source": [
    "sm.qqplot(action_data['user_score'].dropna(), line='45')"
   ]
  },
  {
   "cell_type": "code",
   "execution_count": null,
   "metadata": {},
   "outputs": [],
   "source": [
    "#Выделим жанр Sports\n",
    "genre_dict2=['Sports']\n",
    "sports_data=df_2013.query('genre in @genre_dict2')"
   ]
  },
  {
   "cell_type": "code",
   "execution_count": null,
   "metadata": {},
   "outputs": [],
   "source": [
    "#Выведем первые 10 строчек для проверки\n",
    "sports_data.head(10)"
   ]
  },
  {
   "cell_type": "code",
   "execution_count": null,
   "metadata": {},
   "outputs": [],
   "source": [
    "#Выведем график распределения для жанра Sports\n",
    "\n",
    "sns.distplot(sports_data['user_score'].dropna())"
   ]
  },
  {
   "cell_type": "code",
   "execution_count": null,
   "metadata": {},
   "outputs": [],
   "source": [
    "sm.qqplot(sports_data['user_score'].dropna(), line='45')"
   ]
  },
  {
   "cell_type": "markdown",
   "metadata": {},
   "source": [
    "# Выбор критерия\n",
    "* **Тип данных:** количественный\n",
    "* **Тип распределения:** отличное от нормального\n",
    "* **Зависимость групп**: независимые (разные жанры)\n",
    "* **Количество групп:** 2\n",
    "\n",
    "#### *В данном случае подойдёт критерий Манна-Уитни, поскольку он отвечает условиям нашего исследования.*\n"
   ]
  },
  {
   "cell_type": "code",
   "execution_count": null,
   "metadata": {},
   "outputs": [],
   "source": [
    "#Проверим гипотезу теста Манна-Уитни\n",
    "\n",
    "action=action_data['user_score'].dropna()\n",
    "sports=sports_data['user_score'].dropna()\n",
    "alpha = .01\n",
    "results = st.mannwhitneyu(action, sports, alternative='two-sided')\n",
    "\n",
    "print('p-значение: {:.50f}'.format(results.pvalue))\n",
    "\n",
    "if results.pvalue < alpha:\n",
    "    print(\"Отвергаем нулевую гипотезу\")\n",
    "else:\n",
    "    print(\"Не получилось отвергнуть нулевую гипотезу\")"
   ]
  },
  {
   "cell_type": "markdown",
   "metadata": {},
   "source": [
    "### Подтвердилась гипотеза H1: Средние пользовательские рейтинги жанров Action (англ. «действие», экшен-игры) и Sports (англ. «спортивные соревнования») разные\n",
    "\n",
    "\n"
   ]
  },
  {
   "cell_type": "markdown",
   "metadata": {},
   "source": [
    "<div class=\"alert alert-info\">\n",
    "    \n",
    "    \n",
    "**ВЫВОД (ШАГ 5):**📝\n",
    "\n",
    "****\n",
    "**Рейтинги платформ:**\n",
    "* **H0: Средние пользовательские рейтинги платформ Xbox One и PC одинаковые;** - не удалось отвергнуть нулевую гипотезу\n",
    "* **H1: Средние пользовательские рейтинги платформ Xbox One и PC различаются;**\n",
    "\n",
    "**Средние пользовательские рейтинги:**\n",
    "* **H0: Средние пользовательские рейтинги жанров Action (англ. «действие», экшен-игры) и Sports (англ. «спортивные соревнования») одинаковые.** - отвергаем нулевую гипотезу\n",
    "* **H1: Средние пользовательские рейтинги жанров Action (англ. «действие», экшен-игры) и Sports (англ. «спортивные соревнования») разные.**\n",
    "\n",
    "**В ходе исследования можно сделать предварительные выводы:** \n",
    "* Что есть статистически значимая вероятность того, что пользовательские рейтинги платформ Xbox One и PC одинаковые.\n",
    "* Что есть сильная статистически значимая вероятность того, что средние пользовательские рейтинги жанров Action (англ. «действие», экшен-игры) и Sports (англ. «спортивные соревнования») разные.  \n",
    "    \n",
    "<br>\n",
    "    \n",
    "</div>"
   ]
  },
  {
   "cell_type": "markdown",
   "metadata": {},
   "source": [
    "# ---------------------------------------------------------------------------------------------------------------"
   ]
  },
  {
   "cell_type": "markdown",
   "metadata": {},
   "source": [
    "#  Шаг 6. Общий вывод. "
   ]
  },
  {
   "cell_type": "markdown",
   "metadata": {},
   "source": [
    "<div class=\"alert alert-info\">\n",
    "    \n",
    "    \n",
    "**ВЫВОД (ШАГ 6):**📝\n",
    "\n",
    "**Для планирования рекламной компании после проведённого анализа можно выделить следующие закономерности (рекомендации):**\n",
    "--\n",
    "* Выбирать преимущественно игры платформ, продажи которых растут в последние годы (2013-2016): **XOne, PS4**\n",
    "* Ориентироваться на **рейтинг критиков**, а не на рейтинг пользователей.\n",
    "* Ориентироваться на самые распространённые жанры по **количеству** игр: **Action, Role-Playing, Adventure, Sports, Shooter.**\n",
    "* Ориентироваться на самые **прибыльные** жанры:  **Action, Shooter, Sports, Role-Playing, Misc.**\n",
    "* Избегать рекламных компаний по непопулярным жанрам, например **Puzzle**\n",
    "* При планировании рекламных компаний по конкретному региону, ориентироваться на портреты пользователя для каждого региона:\n",
    "    \n",
    "**ПОРТРЕТ АМЕРИКАНСКОГО ПОЛЬЗОВАТЕЛЯ(NA):**\n",
    "* Любимые платформы: **PS4, XOne**\n",
    "* Любимые жанры: **Action, Shooter**\n",
    "* Отдаёт предпочтение играм для взрослых **(рейтинг ESRB - M)**\n",
    "    \n",
    "**ПОРТРЕТ ЕВРОПЕЙСКОГО ПОЛЬЗОВАТЕЛЯ(EU):**\n",
    "* Любимые платформы: **PS4, PS3**\n",
    "* Любимые жанры: **Action, Shooter**\n",
    "* Отдаёт предпочтение играм для взрослых **(рейтинг ESRB - M)**\n",
    "\n",
    "**ПОРТРЕТ ЯПОНСКОГО ПОЛЬЗОВАТЕЛЯ(JP):**\n",
    "* Любимые платформы: **3DS, PS3**\n",
    "* Любимые жанры: **Role-Playing, Action**\n",
    "* Отдаёт предпочтение играм c возрастным ограничением от **13 лет (рейтинг ESRB - T)** \n",
    "    \n",
    "**Можно использовать совместные промо-компании для европейского и северо-американского региона, а вот в японии \"свои\" законы и рекламная компания должна быть отдельная**\n",
    "\n",
    "    \n",
    "**Также можно в планировании держать в голове следующие проверенные гипотезы:** \n",
    "* **H0: Средние пользовательские рейтинги платформ Xbox One и PC одинаковые;**\n",
    "* **H1: Средние пользовательские рейтинги жанров Action (англ. «действие», экшен-игры) и Sports (англ. «спортивные соревнования») разные.**    \n",
    "    \n",
    "**Данная информация позволит более точно спланировать рекламную компанию на 2017 год.**\n",
    "--    \n",
    "<br>\n",
    "    \n",
    "</div>"
   ]
  },
  {
   "cell_type": "code",
   "execution_count": null,
   "metadata": {},
   "outputs": [],
   "source": []
  }
 ],
 "metadata": {
  "kernelspec": {
   "display_name": "Python 3",
   "language": "python",
   "name": "python3"
  },
  "language_info": {
   "codemirror_mode": {
    "name": "ipython",
    "version": 3
   },
   "file_extension": ".py",
   "mimetype": "text/x-python",
   "name": "python",
   "nbconvert_exporter": "python",
   "pygments_lexer": "ipython3",
   "version": "3.7.6"
  }
 },
 "nbformat": 4,
 "nbformat_minor": 2
}
