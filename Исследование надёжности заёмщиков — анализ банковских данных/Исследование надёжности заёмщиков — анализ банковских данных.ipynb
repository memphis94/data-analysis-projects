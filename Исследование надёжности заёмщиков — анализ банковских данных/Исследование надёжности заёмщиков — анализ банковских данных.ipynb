{
 "cells": [
  {
   "cell_type": "markdown",
   "metadata": {},
   "source": [
    "<div class=\"alert alert-success\">\n",
    "<h2> Комментарий ревьюера</h2>\n",
    "\n",
    "Алексей, привет! Спасибо, что прислал работу во время :) \n",
    "\n",
    "Приношу свои извинения от лица компании, что задержались с проверкой твоей работы :( Постараемся больше так не делать.\n",
    "\n",
    "Меня зовут Евгений, и я буду проверять твой проект) \n",
    "Ты проделал большую работу над проектом, однако в любом деле всегда можно можно что-то улучшить. Моя основная цель — не показать, что где—то совершены какие—либо ошибки, а поделиться своим опытом, который поможет тебе в дальнейших работах. Далее в файле ты сможешь увидить мои комментарии, постарайся учесть их при выполнении следующих заданий.    \n",
    "\n",
    "Мои комментарии обозначены пометкой **Комментарий ревьюера**. Далее в файле ты сможешь найти их в похожих ячейках (если фон комментария <font color=green>зелёный</font> - всё сделано правильно; <font color=orange>оранжевый</font> - есть замечания, но не критично; <font color=red>красный</font> - нужно переделать). Не удаляй эти комментарии и постарайся учесть их в ходе выполнения данного проекта. \n",
    "\n",
    "</div>"
   ]
  },
  {
   "cell_type": "markdown",
   "metadata": {},
   "source": [
    "## Исследование надёжности заёмщиков\n",
    "\n",
    "Заказчик — кредитный отдел банка. Нужно разобраться, влияет ли семейное положение и количество детей клиента на факт погашения кредита в срок. Входные данные от банка — статистика о платёжеспособности клиентов.\n",
    "\n",
    "Результаты исследования будут учтены при построении модели **кредитного скоринга** — специальной системы, которая оценивает способность потенциального заёмщика вернуть кредит банку."
   ]
  },
  {
   "cell_type": "markdown",
   "metadata": {},
   "source": [
    "<div class=\"alert alert-warning\">\n",
    "<h2> Комментарий ревьюера</h2>\n",
    "\n",
    "Рекомендуется делать краткое вступление в работу и описание того, что планируешь сделать (если план у тебя уже сформирован), а также информацию о входных данных: какие столбцы есть в таблице, их названия и какую информацию они несут. Так работа станет выглядеть презентабельнее.\n",
    "\n",
    "</div>"
   ]
  },
  {
   "cell_type": "markdown",
   "metadata": {},
   "source": [
    "### Шаг 1. Откройте файл с данными и изучите общую информацию. "
   ]
  },
  {
   "cell_type": "code",
   "execution_count": 1,
   "metadata": {},
   "outputs": [
    {
     "name": "stdout",
     "output_type": "stream",
     "text": [
      "<class 'pandas.core.frame.DataFrame'>\n",
      "RangeIndex: 21525 entries, 0 to 21524\n",
      "Data columns (total 12 columns):\n",
      "children            21525 non-null int64\n",
      "days_employed       19351 non-null float64\n",
      "dob_years           21525 non-null int64\n",
      "education           21525 non-null object\n",
      "education_id        21525 non-null int64\n",
      "family_status       21525 non-null object\n",
      "family_status_id    21525 non-null int64\n",
      "gender              21525 non-null object\n",
      "income_type         21525 non-null object\n",
      "debt                21525 non-null int64\n",
      "total_income        19351 non-null float64\n",
      "purpose             21525 non-null object\n",
      "dtypes: float64(2), int64(5), object(5)\n",
      "memory usage: 2.0+ MB\n",
      "None\n",
      "           children  days_employed     dob_years  education_id  \\\n",
      "count  21525.000000   19351.000000  21525.000000  21525.000000   \n",
      "mean       0.538908   63046.497661     43.293380      0.817236   \n",
      "std        1.381587  140827.311974     12.574584      0.548138   \n",
      "min       -1.000000  -18388.949901      0.000000      0.000000   \n",
      "25%        0.000000   -2747.423625     33.000000      1.000000   \n",
      "50%        0.000000   -1203.369529     42.000000      1.000000   \n",
      "75%        1.000000    -291.095954     53.000000      1.000000   \n",
      "max       20.000000  401755.400475     75.000000      4.000000   \n",
      "\n",
      "       family_status_id          debt  total_income  \n",
      "count      21525.000000  21525.000000  1.935100e+04  \n",
      "mean           0.972544      0.080883  1.674223e+05  \n",
      "std            1.420324      0.272661  1.029716e+05  \n",
      "min            0.000000      0.000000  2.066726e+04  \n",
      "25%            0.000000      0.000000  1.030532e+05  \n",
      "50%            0.000000      0.000000  1.450179e+05  \n",
      "75%            1.000000      0.000000  2.034351e+05  \n",
      "max            4.000000      1.000000  2.265604e+06  \n",
      " 0     14149\n",
      " 1      4818\n",
      " 2      2055\n",
      " 3       330\n",
      " 20       76\n",
      "-1        47\n",
      " 4        41\n",
      " 5         9\n",
      "Name: children, dtype: int64\n",
      "среднее                13750\n",
      "высшее                  4718\n",
      "СРЕДНЕЕ                  772\n",
      "Среднее                  711\n",
      "неоконченное высшее      668\n",
      "ВЫСШЕЕ                   274\n",
      "Высшее                   268\n",
      "начальное                250\n",
      "Неоконченное высшее       47\n",
      "НЕОКОНЧЕННОЕ ВЫСШЕЕ       29\n",
      "НАЧАЛЬНОЕ                 17\n",
      "Начальное                 15\n",
      "ученая степень             4\n",
      "УЧЕНАЯ СТЕПЕНЬ             1\n",
      "Ученая степень             1\n",
      "Name: education, dtype: int64\n",
      "женат / замужем          12380\n",
      "гражданский брак          4177\n",
      "Не женат / не замужем     2813\n",
      "в разводе                 1195\n",
      "вдовец / вдова             960\n",
      "Name: family_status, dtype: int64\n",
      "F      14236\n",
      "M       7288\n",
      "XNA        1\n",
      "Name: gender, dtype: int64\n",
      "сотрудник          11119\n",
      "компаньон           5085\n",
      "пенсионер           3856\n",
      "госслужащий         1459\n",
      "безработный            2\n",
      "предприниматель        2\n",
      "студент                1\n",
      "в декрете              1\n",
      "Name: income_type, dtype: int64\n",
      "свадьба                                  797\n",
      "на проведение свадьбы                    777\n",
      "сыграть свадьбу                          774\n",
      "операции с недвижимостью                 676\n",
      "покупка коммерческой недвижимости        664\n",
      "операции с жильем                        653\n",
      "покупка жилья для сдачи                  653\n",
      "операции с коммерческой недвижимостью    651\n",
      "покупка жилья                            647\n",
      "жилье                                    647\n",
      "Name: purpose, dtype: int64\n"
     ]
    }
   ],
   "source": [
    "import pandas as pd\n",
    "client_solvency=pd.read_csv('/datasets/data.csv')\n",
    "#print(client_solvency.head(10))\n",
    "#print(client_solvency.tail(10))\n",
    "#Посмотрим информацию об типах данных и их количестве\n",
    "print(client_solvency.info())\n",
    "#Посмотрим общую информацию о количественных данных\n",
    "print(client_solvency.describe())\n",
    "print(client_solvency['children'].value_counts())\n",
    "#И отдельно по столбцам с качественными данными\n",
    "print(client_solvency['education'].value_counts())\n",
    "print(client_solvency['family_status'].value_counts())\n",
    "print(client_solvency['gender'].value_counts())\n",
    "print(client_solvency['income_type'].value_counts())\n",
    "print(client_solvency['purpose'].value_counts().head(10))\n",
    "\n"
   ]
  },
  {
   "cell_type": "markdown",
   "metadata": {},
   "source": [
    "### Вывод"
   ]
  },
  {
   "cell_type": "markdown",
   "metadata": {},
   "source": [
    "При просмотре данных обнаружено следующее:\n",
    "1. 12 колонок с различной информацией о платёжеспособности клиентов, есть количественные данные (float64(2), int64(5)) и качественные (object(5))\n",
    "2. В колонках days_employed(общий трудовой стаж в днях) и total_income(ежемесячный доход) обнаружены пропуски.\n",
    "3. В колонках days_employed(общий трудовой стаж в днях) и total_income(ежемесячный доход) тип данных float64, хотя по своей сути можно оперировать целыми числами для этих колонок (int64).\n",
    "4. В колонке education есть записи, которые имееют однаковое значение (пример - \"среднее, Среднее, СРЕДНЕЕ\"), но написаны в разном регистре. \n",
    "5. В колонке purpose очень много похожих причин для взятия кредита, написанных по-разному (например \"свадьба, на проведение свадьбы, сыграть свадьбу\"), которые нужно будет объеденить.\n",
    "6. Обнаружены аномалии в количественных данных:\n",
    "- days_employed - большинство значений отрицательные, есть аномально высокие значения не сопоставимые с средней продолжительностью человеческой жизни.\n",
    "- family_status - помимо стандартных мужчина (М) и женщина (F), обнаружено 1 непонятное значение XNA. Но поскольку это только одно значение из 21525 - им можно принебречь\n",
    "- children - есть значения количества детей с отрицательным значением (\"-1\" - 47 строк) - и аномально высоким (\"20\" - 76 строк).\n",
    "- dob_years - есть значения возраста, равное \"0\", новорожденные не могут брать кредиты, а судя по другим строкам, где встречается 0, ещё работать, получать пенсию ит.д. - это ошибка, нулевые значения нужно убрать.\n"
   ]
  },
  {
   "cell_type": "markdown",
   "metadata": {},
   "source": [
    "<div class=\"alert alert-success\">\n",
    "<h2> Комментарий ревьюера</h2>\n",
    "\n",
    "Хорошо. Сырые данные качественно изучили, исходя из этого мы можем дальше выполнять свой анализ.\n",
    "Давай теперь постараемся их обработать.\n",
    "\n",
    "</div>"
   ]
  },
  {
   "cell_type": "markdown",
   "metadata": {},
   "source": [
    "### Шаг 2. Предобработка данных"
   ]
  },
  {
   "cell_type": "markdown",
   "metadata": {},
   "source": [
    "### Обработка пропусков"
   ]
  },
  {
   "cell_type": "code",
   "execution_count": 2,
   "metadata": {},
   "outputs": [
    {
     "name": "stdout",
     "output_type": "stream",
     "text": [
      "2194.220566878695\n",
      "\n",
      "145017.93753253992\n",
      "\n",
      "<class 'pandas.core.frame.DataFrame'>\n",
      "RangeIndex: 21525 entries, 0 to 21524\n",
      "Data columns (total 12 columns):\n",
      "children            21525 non-null int64\n",
      "days_employed       21525 non-null float64\n",
      "dob_years           21525 non-null int64\n",
      "education           21525 non-null object\n",
      "education_id        21525 non-null int64\n",
      "family_status       21525 non-null object\n",
      "family_status_id    21525 non-null int64\n",
      "gender              21525 non-null object\n",
      "income_type         21525 non-null object\n",
      "debt                21525 non-null int64\n",
      "total_income        21525 non-null float64\n",
      "purpose             21525 non-null object\n",
      "dtypes: float64(2), int64(5), object(5)\n",
      "memory usage: 2.0+ MB\n",
      "None\n",
      "0\n",
      "0    14225\n",
      "1     4865\n",
      "2     2055\n",
      "3      330\n",
      "4       41\n",
      "5        9\n",
      "Name: children, dtype: int64\n"
     ]
    }
   ],
   "source": [
    "#поменяем отрицательные значения стажа на положительные\n",
    "client_solvency['days_employed']=abs(client_solvency['days_employed'])\n",
    "#посчитаем средние значения дохода и трудового стажа\n",
    "#days_employed_avg=client_solvency['days_employed'].mean()\n",
    "days_employed_avg=client_solvency['days_employed'].median()\n",
    "print(days_employed_avg)\n",
    "print()\n",
    "#total_income_avg=client_solvency['total_income'].mean()\n",
    "total_income_avg=client_solvency['total_income'].median()\n",
    "print(total_income_avg)\n",
    "print()\n",
    "#Заменим пропуски в данных по стажу и доходу на медиану \n",
    "client_solvency['days_employed']= client_solvency['days_employed'].fillna(value=days_employed_avg)\n",
    "client_solvency['total_income']= client_solvency['total_income'].fillna(value=total_income_avg)\n",
    "\n",
    "print(client_solvency.info())\n",
    "\n",
    "\n",
    "#высчитаем средний возраст\n",
    "dob_years_avg=client_solvency['dob_years'].mean()\n",
    "#уберём пропуски (нулевые значения) в данных о возрасте\n",
    "client_solvency['dob_years']= client_solvency['dob_years'].fillna(value=total_income_avg)\n",
    "#проверим количество нулевых значений \n",
    "print(client_solvency['dob_years'].isnull().sum())\n",
    "#нулевые значения убраны, ура\n",
    "\n",
    "#теперь поработаем с ошибками в колонке с детьми, для начала уберём минусовые значения\n",
    "client_solvency['children']=abs(client_solvency['children'])\n",
    "\n",
    "#затем уберём аномально высокое количество детей\n",
    "client_solvency['children']= client_solvency['children'].replace(20, 0)\n",
    "print(client_solvency['children'].value_counts())\n",
    "\n",
    "    "
   ]
  },
  {
   "cell_type": "markdown",
   "metadata": {},
   "source": [
    "<div class=\"alert alert-success\">\n",
    "<h2> Комментарий ревьюера</h2>\n",
    "\n",
    "Хорошо, данные обновили. Если посмотерть на уровень дохода более детально, используя например профессию, уровень образования — сильно ли будут отличаться данные от общей медианы в выборке ? \n",
    "    \n",
    "Какая доля клиентов с некорректными данными по возрасту детей, можно было бы удалить эти данные ?\n",
    "    \n",
    "</div>"
   ]
  },
  {
   "cell_type": "markdown",
   "metadata": {},
   "source": [
    "### Вывод"
   ]
  },
  {
   "cell_type": "markdown",
   "metadata": {},
   "source": [
    "1. Обнаружены пропущенные значения в трудовом стаже и доходе клиента (days_employed, total_income).  \n",
    "2. Пропуска в строках по колонкам 'days_employed' и 'total_income' совпадают, что может означать, что эти данные были не заполнены при подаче анкеты либо это ошибка выгрузки. Все остальные колонки заполнены по этим строкам. \n",
    "3. Для заполнения пропусков, посчитал сначала средние значения, затем медианы, остановился на последних, потому что разница очень большая по значениям между средним и медианой.\n",
    "Замечания: Непонятны значения стажа 'days_employed', подавляющее большинство значений - минусовые. А некоторые плюсовые - аномально высокие. Поэтому отрицательные значения были переведены в положительные, и взята медиана."
   ]
  },
  {
   "cell_type": "markdown",
   "metadata": {},
   "source": [
    "### Замена типа данных"
   ]
  },
  {
   "cell_type": "code",
   "execution_count": 3,
   "metadata": {
    "scrolled": true
   },
   "outputs": [
    {
     "name": "stdout",
     "output_type": "stream",
     "text": [
      "<class 'pandas.core.frame.DataFrame'>\n",
      "RangeIndex: 21525 entries, 0 to 21524\n",
      "Data columns (total 13 columns):\n",
      "children            21525 non-null int64\n",
      "days_employed       21525 non-null float64\n",
      "dob_years           21525 non-null int64\n",
      "education           21525 non-null object\n",
      "education_id        21525 non-null int64\n",
      "family_status       21525 non-null object\n",
      "family_status_id    21525 non-null int64\n",
      "gender              21525 non-null object\n",
      "income_type         21525 non-null object\n",
      "debt                21525 non-null int64\n",
      "total_income        21525 non-null int64\n",
      "purpose             21525 non-null object\n",
      "days_employed       21525 non-null int64\n",
      "dtypes: float64(1), int64(7), object(5)\n",
      "memory usage: 2.1+ MB\n",
      "None\n"
     ]
    }
   ],
   "source": [
    "#заменим данные с дробными числами на целые\n",
    "client_solvency['days_employed ']=client_solvency['days_employed'].astype('int')\n",
    "client_solvency['total_income']=client_solvency['total_income'].astype('int')\n",
    "print(client_solvency.info())\n"
   ]
  },
  {
   "cell_type": "markdown",
   "metadata": {},
   "source": [
    "1. Тип данных в столбцах [days_employed] и ['total_income'] заменён с float64 (дробные числа) на int64 (целые числа).\n",
    "Для стажа работы, который принято считать как минимум в днях (а то и месяцах,годах) значения после запятой не учитываются.\n",
    "Для общего дохода, значения после запятой - это копейки, которыми можно принебречь."
   ]
  },
  {
   "cell_type": "markdown",
   "metadata": {},
   "source": [
    "<div class=\"alert alert-success\">\n",
    "<h2> Комментарий ревьюера</h2>\n",
    "\n",
    "Какая еще может быть причина замены типа данных? \n",
    "\n",
    "</div>"
   ]
  },
  {
   "cell_type": "markdown",
   "metadata": {},
   "source": [
    "### Обработка дубликатов"
   ]
  },
  {
   "cell_type": "code",
   "execution_count": 4,
   "metadata": {},
   "outputs": [
    {
     "name": "stdout",
     "output_type": "stream",
     "text": [
      "['высшее' 'среднее' 'неоконченное высшее' 'начальное' 'ученая степень']\n",
      "['женат / замужем' 'гражданский брак' 'вдовец / вдова' 'в разводе'\n",
      " 'не женат / не замужем']\n",
      "['сотрудник' 'пенсионер' 'компаньон' 'госслужащий' 'безработный'\n",
      " 'предприниматель' 'студент' 'в декрете']\n",
      "Empty DataFrame\n",
      "Columns: [children, days_employed, dob_years, education, education_id, family_status, family_status_id, gender, income_type, debt, total_income, purpose, days_employed ]\n",
      "Index: []\n",
      "Дубликатов в таблице: 0\n"
     ]
    }
   ],
   "source": [
    "\n",
    "\n",
    "#Уберём одинаковые значения образования, заполненные в разном регистре:\n",
    "client_solvency['education'] = client_solvency['education'].str.lower()\n",
    "print(client_solvency['education'].unique())\n",
    "#Уберём одинаковые значения образования, заполненные в разном регистре:\n",
    "client_solvency['family_status'] = client_solvency['family_status'].str.lower()\n",
    "print(client_solvency['family_status'].unique())\n",
    "#посмотрим уникальные столбцы по не количественным столбцам\n",
    "print(client_solvency['income_type'].unique())\n",
    "#print(client_solvency['purpose'].unique())\n",
    "\n",
    "\n",
    "\n",
    "client_solvency=client_solvency.drop_duplicates().reset_index(drop = True)\n",
    "print(client_solvency[client_solvency.duplicated() == True])\n",
    "\n",
    "print('Дубликатов в таблице:',client_solvency.duplicated().sum())"
   ]
  },
  {
   "cell_type": "markdown",
   "metadata": {},
   "source": [
    "### Вывод"
   ]
  },
  {
   "cell_type": "markdown",
   "metadata": {},
   "source": [
    "поясните, как выбирали метод для поиска и удаления дубликатов в данных; \n",
    "1. При первичном поиске дубликатов методом .duplicated(), количество дубликатов было равно 54. Поскольку в предобработке данных пропуски были заменены на медиану, столбцы с количественными значениями ['days_employed '] и ['total_income']  детально не проверялись, т.к. уникальных значений слишком много. Методом .unique()) были просмотрены столбцы с типом данных object и была замечена особенность написания образования ['education'], одни и те же значения были написаны в разном регистре.  Методом .str.lower() были переведены значение регистра в стобце eductaion  в нижний регистр, и после этого количество дубликатов увеличилось до 71. Поскольку удалять дубликаты по данным только одного из столбцов некорректно, дубликаты удалялись по полностью повторяющимся строкам методом drop_duplicates()\n",
    "приведите возможные причины появления дубликатов;\n",
    "2. Поскольку в каждом из дубликатов встречается значение дохода и стажа, которое было заменено на медиану(изначальный пропуск), то возможные причины - это некорректная подача анкеты, а затем внесение новой анкеты без удаления предыдущей."
   ]
  },
  {
   "cell_type": "markdown",
   "metadata": {},
   "source": [
    "<div class=\"alert alert-success\">\n",
    "<h2> Комментарий ревьюера</h2>\n",
    "\n",
    "Верно.\n",
    "\n",
    "</div>"
   ]
  },
  {
   "cell_type": "markdown",
   "metadata": {},
   "source": [
    "### Лемматизация"
   ]
  },
  {
   "cell_type": "code",
   "execution_count": 5,
   "metadata": {},
   "outputs": [
    {
     "name": "stdout",
     "output_type": "stream",
     "text": [
      "[автомобиль, \\n]                                          972\n",
      "[свадьба, \\n]                                             791\n",
      "[на,  , проведение,  , свадьба, \\n]                       768\n",
      "[сыграть,  , свадьба, \\n]                                 765\n",
      "[операция,  , с,  , недвижимость, \\n]                     675\n",
      "[покупка,  , коммерческий,  , недвижимость, \\n]           661\n",
      "[операция,  , с,  , жилье, \\n]                            652\n",
      "[покупка,  , жилье,  , для,  , сдача, \\n]                 651\n",
      "[операция,  , с,  , коммерческий,  , недвижимость, \\n]    650\n",
      "[покупка,  , жилье, \\n]                                   646\n",
      "[жилье, \\n]                                               646\n",
      "[покупка,  , жилье,  , для,  , семья, \\n]                 638\n",
      "[строительство,  , собственный,  , недвижимость, \\n]      635\n",
      "[недвижимость, \\n]                                        633\n",
      "[операция,  , со,  , свой,  , недвижимость, \\n]           627\n",
      "[строительство,  , жилой,  , недвижимость, \\n]            624\n",
      "[покупка,  , недвижимость, \\n]                            621\n",
      "[покупка,  , свой,  , жилье, \\n]                          620\n",
      "[строительство,  , недвижимость, \\n]                      619\n",
      "[ремонт,  , жилье, \\n]                                    607\n",
      "[покупка,  , жилой,  , недвижимость, \\n]                  606\n",
      "[на,  , покупка,  , свой,  , автомобиль, \\n]              505\n",
      "[заниматься,  , высокий,  , образование, \\n]              496\n",
      "[сделка,  , с,  , подержанный,  , автомобиль, \\n]         486\n",
      "[свой,  , автомобиль, \\n]                                 478\n",
      "[на,  , покупка,  , подержать,  , автомобиль, \\n]         478\n",
      "[на,  , покупка,  , автомобиль, \\n]                       471\n",
      "[приобретение,  , автомобиль, \\n]                         461\n",
      "[дополнительный,  , образование, \\n]                      460\n",
      "[сделка,  , с,  , автомобиль, \\n]                         455\n",
      "[высокий,  , образование, \\n]                             452\n",
      "[образование, \\n]                                         447\n",
      "[получение,  , дополнительный,  , образование, \\n]        446\n",
      "[получение,  , образование, \\n]                           442\n",
      "[профильный,  , образование, \\n]                          436\n",
      "[получение,  , высокий,  , образование, \\n]               426\n",
      "[заниматься,  , образование, \\n]                          408\n",
      "Name: purpose_lemm, dtype: int64\n",
      "Покупка недвижимости         9500\n",
      "Покупка авто                 4306\n",
      "Кредит на образование        4013\n",
      "Деньги на свадьбу            2324\n",
      "Коммерческая недвижимость    1311\n",
      "Name: purpose_lemm_category, dtype: int64\n",
      "5    9500\n",
      "1    4306\n",
      "3    4013\n",
      "2    2324\n",
      "4    1311\n",
      "Name: purpose_index, dtype: int64\n"
     ]
    }
   ],
   "source": [
    "#Выделим леммы столбца purpose\n",
    "from pymystem3 import Mystem\n",
    "m = Mystem()\n",
    "def lemmatize (row):\n",
    "    purpose = row['purpose']\n",
    "    lemmas = m.lemmatize(purpose)\n",
    "    return lemmas\n",
    "\n",
    "\n",
    "#добавим дополнительный столбец с леммами\n",
    "client_solvency['purpose_lemm']=client_solvency.apply(lemmatize, axis=1)\n",
    "\n",
    "#разделим леммы по категориям c учётом основных причин - автомобиль, свадьба, недвижимость, образование, коммерческая недвижимость\n",
    "def purpose_reason(row):\n",
    "    purpose_reason_word = row['purpose_lemm']\n",
    "    if 'автомобиль' in purpose_reason_word:\n",
    "        return 'Покупка авто'\n",
    "    if 'свадьба' in purpose_reason_word:\n",
    "        return 'Деньги на свадьбу'\n",
    "    if 'образование' in purpose_reason_word:\n",
    "        return 'Кредит на образование'\n",
    "    if 'коммерческий' in purpose_reason_word:\n",
    "        return 'Коммерческая недвижимость'\n",
    "    return 'Покупка недвижимости'\n",
    "\n",
    "client_solvency['purpose_lemm_category']=client_solvency.apply(purpose_reason, axis=1)\n",
    "print(client_solvency['purpose_lemm'].value_counts())\n",
    "print(client_solvency['purpose_lemm_category'].value_counts())\n",
    "\n",
    "#для удобства дальнейшей обработки добавим числовые значения категорий по целям кредита\n",
    "\n",
    "def purpose_index(row):\n",
    "    purpose_index_phrase = row['purpose_lemm_category']\n",
    "    if 'Покупка авто' in purpose_index_phrase:\n",
    "        return '1'\n",
    "    if 'Деньги на свадьбу' in purpose_index_phrase:\n",
    "        return '2'\n",
    "    if 'Кредит на образование' in purpose_index_phrase:\n",
    "        return '3'\n",
    "    if 'Коммерческая недвижимость' in purpose_index_phrase:\n",
    "        return '4'\n",
    "    return '5'\n",
    "\n",
    "client_solvency['purpose_index']=client_solvency.apply(purpose_index, axis=1)\n",
    "print(client_solvency['purpose_index'].value_counts())\n",
    "\n",
    "\n",
    "\n",
    "\n"
   ]
  },
  {
   "cell_type": "markdown",
   "metadata": {},
   "source": [
    "### Вывод"
   ]
  },
  {
   "cell_type": "markdown",
   "metadata": {},
   "source": [
    "выделите леммы в значениях столбца с целями получения кредита:\n",
    "1. Леммы в столбце purpose выделены в отдельный столбец 'purpose_lemm'\n",
    "опишите, как вы проводили лемматизацию целей кредита;\n",
    "2. Данные были разделены на 5 категорий, поскольку в причинах есть разные значения недвижимости (недвижимость, коммерческая недвижимость, жильё), недвижимость разделена на коммерческую и обычную. Далее столбцы по остальным причинам (авто, свадьба, образование)"
   ]
  },
  {
   "cell_type": "markdown",
   "metadata": {},
   "source": [
    "<div class=\"alert alert-warning\">\n",
    "<h2> Комментарий ревьюера</h2>\n",
    "\n",
    "Верно. Рекомендую последовательно выполнять действия в работе, чтобы было видно что сделано и какие выводы и дальнейшие шаги мы предпринимаем в проекте. То есть, изначально определили леммы — сделали промежуточный вывод — написали функцию категоризации. \n",
    "\n",
    "Хоть функции и просты, напомню про отказоустойчивость кода с использованием связки «try—except», для создания будущих функций :)\n",
    "\n",
    "</div>"
   ]
  },
  {
   "cell_type": "markdown",
   "metadata": {},
   "source": [
    "### Категоризация данных"
   ]
  },
  {
   "cell_type": "code",
   "execution_count": 6,
   "metadata": {},
   "outputs": [
    {
     "name": "stdout",
     "output_type": "stream",
     "text": [
      "доход выше среднего    8187\n",
      "средний доход          6039\n",
      "высокий доход          5894\n",
      "низкий доход            806\n",
      "очень высокий доход     503\n",
      "рублёвые миллионеры      25\n",
      "Name: income_categories, dtype: int64\n",
      "Взрослые 30-45    8486\n",
      "Взрослые 45-60    7024\n",
      "Молодёжь          3818\n",
      "Пожилые           2126\n",
      "Name: dob_years_categories, dtype: int64\n",
      "Нет детей       14167\n",
      "Один ребёнок     4855\n",
      "Двое детей       2052\n",
      "Многодетный       380\n",
      "Name: children_count_categories, dtype: int64\n"
     ]
    }
   ],
   "source": [
    "\n",
    "#разделим размер дохода по категориям низкий, средний, средний плюс, высокий, очень высокий, миллионер (6 типов)\n",
    "def income_category(row):\n",
    "     if row <= 60000:  \n",
    "       return 'низкий доход'\n",
    "     elif 60000 < row <= 120000:\n",
    "       return 'средний доход'\n",
    "     elif 120000 < row <= 180000:\n",
    "       return 'доход выше среднего'\n",
    "     elif 180000 < row <= 400000:\n",
    "       return 'высокий доход'\n",
    "     elif 400000 < row <= 1000000:\n",
    "       return 'очень высокий доход'\n",
    "    \n",
    "     else:\n",
    "       return 'рублёвые миллионеры'\n",
    "client_solvency['income_categories'] = client_solvency['total_income'].apply(income_category)\n",
    "print(client_solvency['income_categories'].value_counts())\n",
    "\n",
    "#разделим dob_years по возрастным группам\n",
    "def age_category(row):\n",
    "     \n",
    "     if row <= 30:  \n",
    "       return 'Молодёжь'\n",
    "     elif 30 < row <= 45:\n",
    "       return 'Взрослые 30-45'\n",
    "     elif 45 < row <= 60:\n",
    "       return 'Взрослые 45-60'\n",
    "     else:\n",
    "       return 'Пожилые'\n",
    "client_solvency['dob_years_categories'] = client_solvency['dob_years'].apply(age_category)\n",
    "print(client_solvency['dob_years_categories'].value_counts())\n",
    "\n",
    "#разделим children на категории\n",
    "def children_count(row):\n",
    "     \n",
    "     if row == 0:  \n",
    "       return 'Нет детей'\n",
    "     elif row <= 1:\n",
    "       return 'Один ребёнок'\n",
    "     elif row <= 2:\n",
    "       return 'Двое детей'\n",
    "     else:\n",
    "       return 'Многодетный'\n",
    "client_solvency['children_count_categories'] = client_solvency['children'].apply(children_count)\n",
    "print(client_solvency['children_count_categories'].value_counts())\n",
    "\n",
    "#проверим категоризацию методом try-except\n"
   ]
  },
  {
   "cell_type": "markdown",
   "metadata": {},
   "source": [
    "<div class=\"alert alert-warning\">\n",
    "<h2> Комментарий ревьюера</h2>\n",
    "\n",
    "Было бы интересно видеть твои размышления касаемо определения категорий по уровню доходов клиентов.\n",
    "</div>"
   ]
  },
  {
   "cell_type": "markdown",
   "metadata": {},
   "source": [
    "### Вывод"
   ]
  },
  {
   "cell_type": "markdown",
   "metadata": {},
   "source": []
  },
  {
   "cell_type": "markdown",
   "metadata": {},
   "source": [
    "<div class=\"alert alert-warning\">\n",
    "<h2> Комментарий ревьюера</h2>\n",
    "\n",
    "Было бы здорово убирать не используемые ячейки, то есть которые не несут в себе никакой информаци.\n",
    "\n",
    "http://joxi.ru/1A5PY0oTGaMPV2\n",
    "\n",
    "</div>"
   ]
  },
  {
   "cell_type": "markdown",
   "metadata": {},
   "source": [
    "### Шаг 3. Ответьте на вопросы"
   ]
  },
  {
   "cell_type": "markdown",
   "metadata": {},
   "source": [
    "- Есть ли зависимость между наличием детей и возвратом кредита в срок?"
   ]
  },
  {
   "cell_type": "code",
   "execution_count": 7,
   "metadata": {},
   "outputs": [
    {
     "name": "stdout",
     "output_type": "stream",
     "text": [
      "                           платежи в срок  просроченные платежи  \\\n",
      "children_count_categories                                         \n",
      "Двое детей                           1858                   194   \n",
      "Многодетный                           349                    31   \n",
      "Нет детей                           13096                  1071   \n",
      "Один ребёнок                         4410                   445   \n",
      "\n",
      "                           доля просроченных платежей  \n",
      "children_count_categories                              \n",
      "Двое детей                                   0.094542  \n",
      "Многодетный                                  0.081579  \n",
      "Нет детей                                    0.075598  \n",
      "Один ребёнок                                 0.091658  \n"
     ]
    }
   ],
   "source": [
    "#создаем сводную таблицу\n",
    "children_status_data=client_solvency.pivot_table(index = ['children_count_categories'], columns = 'debt', values = 'children', aggfunc='count')\n",
    " \n",
    "#переименовываем колонки\n",
    "new_columns = ['платежи в срок','просроченные платежи']\n",
    "children_status_data.set_axis(new_columns, axis='columns',inplace = True)\n",
    " \n",
    "#создаем новый столбец с долей и выводим таблицу на печать\n",
    "children_status_data['доля просроченных платежей']=children_status_data['просроченные платежи']/(children_status_data['просроченные платежи']+children_status_data['платежи в срок'])\n",
    "print(children_status_data)"
   ]
  },
  {
   "cell_type": "markdown",
   "metadata": {},
   "source": [
    "<div class=\"alert alert-success\">\n",
    "<h2> Комментарий ревьюера</h2>\n",
    "\n",
    "Свооодные таблицы — наше всё для быстрых вычислений :)\n",
    "    \n",
    "Верно.\n",
    "    \n",
    "</div>"
   ]
  },
  {
   "cell_type": "markdown",
   "metadata": {},
   "source": [
    "<div class=\"alert alert-warning\">\n",
    "<h2> Комментарий ревьюера</h2>\n",
    "\n",
    "Я бы рекомендовал не использовать атрибут **inplace**, так как в последующих обновлениях библотеки **pandas** он будет удален.\n",
    "</div>"
   ]
  },
  {
   "cell_type": "markdown",
   "metadata": {},
   "source": [
    "### Вывод"
   ]
  },
  {
   "cell_type": "markdown",
   "metadata": {},
   "source": [
    "Исходя из полученных данных можно обозначить следующее:\n",
    "1. Люди, у которых нет детей реже задерживают платежи\n",
    "2. Больше всех задерживают платежи, люди, укоторых двое детей, чуть реже с одним ребёнком.\n",
    "3. Однако люди, у которых 3 и более ребёнка реже делают просрочки по платежам, чем люди с одним или двумя детьми.\n",
    "\n",
    "Как итог, зависимость между наличием детей и возвратом кредита в срок есть. "
   ]
  },
  {
   "cell_type": "markdown",
   "metadata": {},
   "source": [
    "<div class=\"alert alert-success\">\n",
    "<h2> Комментарий ревьюера</h2>\n",
    "\n",
    "Верно, небольшая зависимость присутствует.\n",
    "    \n",
    "</div>"
   ]
  },
  {
   "cell_type": "markdown",
   "metadata": {},
   "source": [
    "- Есть ли зависимость между семейным положением и возвратом кредита в срок?"
   ]
  },
  {
   "cell_type": "code",
   "execution_count": 8,
   "metadata": {},
   "outputs": [
    {
     "name": "stdout",
     "output_type": "stream",
     "text": [
      "                       платежи в срок  просроченные платежи  \\\n",
      "family_status                                                 \n",
      "в разводе                        1110                    85   \n",
      "вдовец / вдова                    896                    63   \n",
      "гражданский брак                 3763                   388   \n",
      "женат / замужем                 11408                   931   \n",
      "не женат / не замужем            2536                   274   \n",
      "\n",
      "                       доля просроченных платежей  \n",
      "family_status                                      \n",
      "в разводе                                0.071130  \n",
      "вдовец / вдова                           0.065693  \n",
      "гражданский брак                         0.093471  \n",
      "женат / замужем                          0.075452  \n",
      "не женат / не замужем                    0.097509  \n"
     ]
    }
   ],
   "source": [
    "#создаем сводную таблицу\n",
    "family_status_data=client_solvency.pivot_table(index = ['family_status'], columns = 'debt', values = 'dob_years', aggfunc='count')\n",
    " \n",
    "#переименовываем колонки\n",
    "new_columns = ['платежи в срок','просроченные платежи']\n",
    "family_status_data.set_axis(new_columns, axis='columns',inplace = True)\n",
    " \n",
    "#создаем новый столбец с долей и выводим таблицу на печать\n",
    "family_status_data['доля просроченных платежей']=family_status_data['просроченные платежи']/(family_status_data['просроченные платежи']+family_status_data['платежи в срок'])\n",
    "print(family_status_data)"
   ]
  },
  {
   "cell_type": "markdown",
   "metadata": {},
   "source": [
    "### Вывод"
   ]
  },
  {
   "cell_type": "markdown",
   "metadata": {},
   "source": [
    "Исходя из полученных данных можно обозначить следующее:\n",
    "1. Самые ответственные плательщики - вдовы и вдовцы, а после них идут разведённые\n",
    "2. Больше всех просрочек по платежам у не женатых или не узаконивших свои отношения (гражданский брак).\n",
    "3. Женатые почти на четверть реже задерживают платежи, чем НЕ женатые.\n",
    "\n",
    "Как итог, зависимость между семейным положением и возвратом кредита в срок есть"
   ]
  },
  {
   "cell_type": "markdown",
   "metadata": {},
   "source": [
    "<div class=\"alert alert-success\">\n",
    "<h2> Комментарий ревьюера</h2>\n",
    "\n",
    "Верно.\n",
    "    \n",
    "</div>"
   ]
  },
  {
   "cell_type": "markdown",
   "metadata": {},
   "source": [
    "- Есть ли зависимость между уровнем дохода и возвратом кредита в срок?"
   ]
  },
  {
   "cell_type": "code",
   "execution_count": 9,
   "metadata": {},
   "outputs": [
    {
     "name": "stdout",
     "output_type": "stream",
     "text": [
      "                     платежи в срок  просроченные платежи  \\\n",
      "income_categories                                           \n",
      "высокий доход                  5447                   447   \n",
      "доход выше среднего            7475                   712   \n",
      "низкий доход                    757                    49   \n",
      "очень высокий доход             474                    29   \n",
      "рублёвые миллионеры              23                     2   \n",
      "средний доход                  5537                   502   \n",
      "\n",
      "                     доля просроченных платежей  \n",
      "income_categories                                \n",
      "высокий доход                          0.075840  \n",
      "доход выше среднего                    0.086967  \n",
      "низкий доход                           0.060794  \n",
      "очень высокий доход                    0.057654  \n",
      "рублёвые миллионеры                    0.080000  \n",
      "средний доход                          0.083126  \n"
     ]
    }
   ],
   "source": [
    "#создаем сводную таблицу\n",
    "total_income_data=client_solvency.pivot_table(index = ['income_categories'], columns = 'debt', values = 'total_income', aggfunc='count')\n",
    " \n",
    "#переименовываем колонки\n",
    "new_columns = ['платежи в срок','просроченные платежи']\n",
    "total_income_data.set_axis(new_columns, axis='columns',inplace = True)\n",
    " \n",
    "#создаем новый столбец с долей и выводим таблицу на печать\n",
    "total_income_data['доля просроченных платежей']=total_income_data['просроченные платежи']/(total_income_data['просроченные платежи']+total_income_data['платежи в срок'])\n",
    "print(total_income_data)"
   ]
  },
  {
   "cell_type": "markdown",
   "metadata": {},
   "source": [
    "### Вывод"
   ]
  },
  {
   "cell_type": "markdown",
   "metadata": {},
   "source": [
    "Исходя из полученных данных можно обозначить следующее:\n",
    "1. Больше всех просрочки по платежам допускают люди с доходом менее 60 т.р. (низкий доход) и как ни странна люди с доходом от 400т.р. до 1 млн рублей.\n",
    "2. Люди со средним доходом и выше среднего реже других задерживают платежи.\n",
    "3. Миллионеры задерживают платежи чаще, чем люди со средним заработком.\n",
    "\n",
    "Как итог, зависимость между уровнем дохода и возвратом кредита в срок есть. Лучше всех выполняет свои обязательства средний класс!"
   ]
  },
  {
   "cell_type": "markdown",
   "metadata": {},
   "source": [
    "<div class=\"alert alert-success\">\n",
    "<h2> Комментарий ревьюера</h2>\n",
    "\n",
    "Исходя из расчетов верно, но не маловажно понимать каким образом были сформированы данные категории доходов.\n",
    "    \n",
    "</div>"
   ]
  },
  {
   "cell_type": "markdown",
   "metadata": {},
   "source": [
    "- Как разные цели кредита влияют на его возврат в срок?"
   ]
  },
  {
   "cell_type": "code",
   "execution_count": 10,
   "metadata": {},
   "outputs": [
    {
     "name": "stdout",
     "output_type": "stream",
     "text": [
      "                           платежи в срок  просроченные платежи  \\\n",
      "purpose_lemm_category                                             \n",
      "Деньги на свадьбу                    2138                   186   \n",
      "Коммерческая недвижимость            1212                    99   \n",
      "Кредит на образование                3643                   370   \n",
      "Покупка авто                         3903                   403   \n",
      "Покупка недвижимости                 8817                   683   \n",
      "\n",
      "                           доля просроченных платежей  \n",
      "purpose_lemm_category                                  \n",
      "Деньги на свадьбу                            0.080034  \n",
      "Коммерческая недвижимость                    0.075515  \n",
      "Кредит на образование                        0.092200  \n",
      "Покупка авто                                 0.093590  \n",
      "Покупка недвижимости                         0.071895  \n"
     ]
    }
   ],
   "source": [
    "#создаем сводную таблицу\n",
    "purpose_category_data=client_solvency.pivot_table(index = ['purpose_lemm_category'], columns = 'debt', values = ['purpose_index'], aggfunc='count')\n",
    " \n",
    "#переименовываем колонки\n",
    "new_columns = ['платежи в срок','просроченные платежи']\n",
    "purpose_category_data.set_axis(new_columns, axis='columns',inplace = True)\n",
    " \n",
    "#создаем новый столбец с долей и выводим таблицу на печать\n",
    "purpose_category_data['доля просроченных платежей']=purpose_category_data['просроченные платежи']/(purpose_category_data['просроченные платежи']+purpose_category_data['платежи в срок'])\n",
    "print(purpose_category_data)"
   ]
  },
  {
   "cell_type": "markdown",
   "metadata": {},
   "source": [
    "### Вывод"
   ]
  },
  {
   "cell_type": "markdown",
   "metadata": {},
   "source": [
    "Исходя из полученных данных можно обозначить следующее:\n",
    "1. Платежи по ипотекам (кредитам на недвижимость) задерживают реже других кредитов.\n",
    "2. Больше всего просрочек делают по кредитам на авто и образование\n",
    "3. Просрочки платежей по кредитам на свадьбу совершают чаще, чем по кредитам на покупку недвижимости, но реже чем на образование и авто.\n",
    "\n",
    "Вывод - ипотечные кредиты самые надёжные для банка при прочих равных."
   ]
  },
  {
   "cell_type": "markdown",
   "metadata": {},
   "source": [
    "<div class=\"alert alert-success\">\n",
    "<h2> Комментарий ревьюера</h2>\n",
    "\n",
    "Верно.\n",
    "    \n",
    "</div>"
   ]
  },
  {
   "cell_type": "markdown",
   "metadata": {},
   "source": [
    "### Шаг 4. Общий вывод"
   ]
  },
  {
   "cell_type": "markdown",
   "metadata": {},
   "source": [
    "Многие факторы влияют на то, делают ли люди просрочки или нет. Попробуем составить портреты \"идеального\" заёмщика и \"проблемного\"\n",
    "\n",
    "\"Идеальный заёмщик\"\n",
    "- Вдовец или разведённый\n",
    "- Без детей\n",
    "- Берёт кредит на недвижимость (ипотеку)\n",
    "- Доход от 120 до 400 т.р.\n",
    "\n",
    "\"Проблемный заёмщик\":\n",
    "- Не женат\n",
    "- Количество детей - двое (откуда он их взял?)\n",
    "- Берёт кредит на автомобиль\n",
    "- Доход до 60 т.р. или от 400 т.р. до 1млн.\n",
    "\n",
    "\n",
    "Я уверен, что для составления кредитного скоринга необходимо будет учесть и другие параметры, которые есть в предоставленных данных, но даже то, что есть уже показывает некоторые закономерности, по которым можно присваивать рейтинг платёжеспособности (кредитный скоринг) и использовать как инструмент для автоматизации одобрения или отказа в предоставлении кредита.\n",
    "\n"
   ]
  },
  {
   "cell_type": "markdown",
   "metadata": {},
   "source": [
    "<div class=\"alert alert-warning\">\n",
    "<h2> Комментарий ревьюера</h2>\n",
    "\n",
    "Финальный вывод и есть главный результат твоей работы. Стоит писать его подробно по результатам проведенной работы. В нем можно приводить полученные в ходе работы значения. Также можно расписать все, что было сделано в работе.\n",
    "    \n",
    "Сейчас финальный вывод отвечает на главный вопрос, и максимально логичен, а самое главное подкреплен фактами на основании нашего исследования.\n",
    "    \n",
    "</div>"
   ]
  },
  {
   "cell_type": "markdown",
   "metadata": {},
   "source": [
    "<div class=\"alert alert-success\">\n",
    "<h2> Комментарий ревьюера</h2>\n",
    "\n",
    "Работа выполнена на хорошем уровне! Использовано большое количество изученных методов, которые будут помогать тебе в будущих проектах. На протяжении всей работы чувствуется вся глубина проработки, это безусловный плюс. \n",
    "Рекомендую не стесняться использовать ячейки типа «markdown», в тех местах где нужно пояснить свои мысли и дополнительно стилизовать свои размышления. Оформление проекта — это также один из важнейших блоков всей работы.\n",
    "\n",
    "Успехов тебе в будущих проектах, не сбавляй темпы своего обучения! :)\n",
    "    \n",
    "</div>"
   ]
  },
  {
   "cell_type": "markdown",
   "metadata": {},
   "source": [
    "# Чек-лист готовности проекта\n",
    "\n",
    "Поставьте 'x' в выполненных пунктах. Далее нажмите Shift+Enter."
   ]
  },
  {
   "cell_type": "markdown",
   "metadata": {},
   "source": [
    "- [x]  открыт файл;\n",
    "- [x]  файл изучен;\n",
    "- [x]  определены пропущенные значения;\n",
    "- [x]  заполнены пропущенные значения;\n",
    "- [x]  есть пояснение, какие пропущенные значения обнаружены;\n",
    "- [x]  описаны возможные причины появления пропусков в данных;\n",
    "- [x]  объяснено, по какому принципу заполнены пропуски;\n",
    "- [x]  заменен вещественный тип данных на целочисленный;\n",
    "- [x]  есть пояснение, какой метод используется для изменения типа данных и почему;\n",
    "- [x]  удалены дубликаты;\n",
    "- [x]  есть пояснение, какой метод используется для поиска и удаления дубликатов;\n",
    "- [x]  описаны возможные причины появления дубликатов в данных;\n",
    "- [x]  выделены леммы в значениях столбца с целями получения кредита;\n",
    "- [x]  описан процесс лемматизации;\n",
    "- [x]  данные категоризированы;\n",
    "- [x]  есть объяснение принципа категоризации данных;\n",
    "- [x]  есть ответ на вопрос: \"Есть ли зависимость между наличием детей и возвратом кредита в срок?\";\n",
    "- [x]  есть ответ на вопрос: \"Есть ли зависимость между семейным положением и возвратом кредита в срок?\";\n",
    "- [x]  есть ответ на вопрос: \"Есть ли зависимость между уровнем дохода и возвратом кредита в срок?\";\n",
    "- [x]  есть ответ на вопрос: \"Как разные цели кредита влияют на его возврат в срок?\";\n",
    "- [x]  в каждом этапе есть выводы;\n",
    "- [x]  есть общий вывод."
   ]
  },
  {
   "cell_type": "code",
   "execution_count": null,
   "metadata": {},
   "outputs": [],
   "source": []
  }
 ],
 "metadata": {
  "kernelspec": {
   "display_name": "Python 3",
   "language": "python",
   "name": "python3"
  },
  "language_info": {
   "codemirror_mode": {
    "name": "ipython",
    "version": 3
   },
   "file_extension": ".py",
   "mimetype": "text/x-python",
   "name": "python",
   "nbconvert_exporter": "python",
   "pygments_lexer": "ipython3",
   "version": "3.7.6"
  }
 },
 "nbformat": 4,
 "nbformat_minor": 2
}
